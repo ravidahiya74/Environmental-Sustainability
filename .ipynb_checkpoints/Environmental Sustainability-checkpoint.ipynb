{
 "cells": [
  {
   "cell_type": "markdown",
   "metadata": {},
   "source": [
    "# Actual Model"
   ]
  },
  {
   "cell_type": "markdown",
   "metadata": {},
   "source": [
    "### Step-1: Importing the relevant libraries and data exploration"
   ]
  },
  {
   "cell_type": "code",
   "execution_count": 1,
   "metadata": {},
   "outputs": [
    {
     "data": {
      "text/html": [
       "        <script type=\"text/javascript\">\n",
       "        window.PlotlyConfig = {MathJaxConfig: 'local'};\n",
       "        if (window.MathJax) {MathJax.Hub.Config({SVG: {font: \"STIX-Web\"}});}\n",
       "        if (typeof require !== 'undefined') {\n",
       "        require.undef(\"plotly\");\n",
       "        requirejs.config({\n",
       "            paths: {\n",
       "                'plotly': ['https://cdn.plot.ly/plotly-latest.min']\n",
       "            }\n",
       "        });\n",
       "        require(['plotly'], function(Plotly) {\n",
       "            window._Plotly = Plotly;\n",
       "        });\n",
       "        }\n",
       "        </script>\n",
       "        "
      ]
     },
     "metadata": {},
     "output_type": "display_data"
    },
    {
     "data": {
      "text/html": [
       "        <script type=\"text/javascript\">\n",
       "        window.PlotlyConfig = {MathJaxConfig: 'local'};\n",
       "        if (window.MathJax) {MathJax.Hub.Config({SVG: {font: \"STIX-Web\"}});}\n",
       "        if (typeof require !== 'undefined') {\n",
       "        require.undef(\"plotly\");\n",
       "        requirejs.config({\n",
       "            paths: {\n",
       "                'plotly': ['https://cdn.plot.ly/plotly-latest.min']\n",
       "            }\n",
       "        });\n",
       "        require(['plotly'], function(Plotly) {\n",
       "            window._Plotly = Plotly;\n",
       "        });\n",
       "        }\n",
       "        </script>\n",
       "        "
      ]
     },
     "metadata": {},
     "output_type": "display_data"
    }
   ],
   "source": [
    "import pandas as pd\n",
    "import numpy as np\n",
    "import matplotlib.pyplot as plt\n",
    "import seaborn as sns\n",
    "%matplotlib inline\n",
    "from sklearn.preprocessing import MinMaxScaler\n",
    "from minisom import MiniSom\n",
    "from pylab import bone, pcolor, colorbar, plot, show, rcParams\n",
    "from plotly.offline import download_plotlyjs\n",
    "from plotly.offline import init_notebook_mode\n",
    "from plotly.offline import plot, iplot\n",
    "import cufflinks as cf\n",
    "init_notebook_mode(connected=True)\n",
    "cf.go_offline()\n",
    "import plotly.graph_objs as go"
   ]
  },
  {
   "cell_type": "code",
   "execution_count": 2,
   "metadata": {},
   "outputs": [
    {
     "data": {
      "text/html": [
       "<div>\n",
       "<style scoped>\n",
       "    .dataframe tbody tr th:only-of-type {\n",
       "        vertical-align: middle;\n",
       "    }\n",
       "\n",
       "    .dataframe tbody tr th {\n",
       "        vertical-align: top;\n",
       "    }\n",
       "\n",
       "    .dataframe thead th {\n",
       "        text-align: right;\n",
       "    }\n",
       "</style>\n",
       "<table border=\"1\" class=\"dataframe\">\n",
       "  <thead>\n",
       "    <tr style=\"text-align: right;\">\n",
       "      <th></th>\n",
       "      <th>Country</th>\n",
       "      <th>CODE</th>\n",
       "      <th>Fossil_fuel_usage</th>\n",
       "      <th>Renewable_energy_usage</th>\n",
       "      <th>Per_capita_CO2</th>\n",
       "      <th>Forest_area</th>\n",
       "      <th>change_in_forest_area</th>\n",
       "      <th>fresh_water_withdrawl</th>\n",
       "      <th>natural_resource_reduction</th>\n",
       "      <th>air_pollution_deaths_per_100000</th>\n",
       "      <th>water_related_deaths_per_100000</th>\n",
       "      <th>land_degradation</th>\n",
       "      <th>red_list_index</th>\n",
       "      <th>Pollution Index</th>\n",
       "    </tr>\n",
       "  </thead>\n",
       "  <tbody>\n",
       "    <tr>\n",
       "      <td>0</td>\n",
       "      <td>Norway</td>\n",
       "      <td>NOR</td>\n",
       "      <td>57.0</td>\n",
       "      <td>57.8</td>\n",
       "      <td>6.8</td>\n",
       "      <td>33.2</td>\n",
       "      <td>-0.1</td>\n",
       "      <td>0.8</td>\n",
       "      <td>4.4</td>\n",
       "      <td>9</td>\n",
       "      <td>0.2</td>\n",
       "      <td>..</td>\n",
       "      <td>0.940</td>\n",
       "      <td>20.29</td>\n",
       "    </tr>\n",
       "    <tr>\n",
       "      <td>1</td>\n",
       "      <td>Switzerland</td>\n",
       "      <td>CHE</td>\n",
       "      <td>50.2</td>\n",
       "      <td>25.3</td>\n",
       "      <td>4.5</td>\n",
       "      <td>31.8</td>\n",
       "      <td>9.3</td>\n",
       "      <td>3.8</td>\n",
       "      <td>0.0</td>\n",
       "      <td>10</td>\n",
       "      <td>0.1</td>\n",
       "      <td>..</td>\n",
       "      <td>0.974</td>\n",
       "      <td>21.31</td>\n",
       "    </tr>\n",
       "    <tr>\n",
       "      <td>2</td>\n",
       "      <td>Ireland</td>\n",
       "      <td>IRL</td>\n",
       "      <td>85.3</td>\n",
       "      <td>9.1</td>\n",
       "      <td>7.9</td>\n",
       "      <td>11.0</td>\n",
       "      <td>63.4</td>\n",
       "      <td>1.5</td>\n",
       "      <td>0.1</td>\n",
       "      <td>12</td>\n",
       "      <td>0.1</td>\n",
       "      <td>..</td>\n",
       "      <td>0.925</td>\n",
       "      <td>33.02</td>\n",
       "    </tr>\n",
       "  </tbody>\n",
       "</table>\n",
       "</div>"
      ],
      "text/plain": [
       "       Country CODE Fossil_fuel_usage  Renewable_energy_usage Per_capita_CO2  \\\n",
       "0       Norway  NOR              57.0                    57.8            6.8   \n",
       "1  Switzerland  CHE              50.2                    25.3            4.5   \n",
       "2      Ireland  IRL              85.3                     9.1            7.9   \n",
       "\n",
       "  Forest_area change_in_forest_area fresh_water_withdrawl  \\\n",
       "0        33.2                  -0.1                   0.8   \n",
       "1        31.8                   9.3                   3.8   \n",
       "2        11.0                  63.4                   1.5   \n",
       "\n",
       "  natural_resource_reduction air_pollution_deaths_per_100000  \\\n",
       "0                        4.4                               9   \n",
       "1                        0.0                              10   \n",
       "2                        0.1                              12   \n",
       "\n",
       "  water_related_deaths_per_100000 land_degradation  red_list_index  \\\n",
       "0                             0.2               ..           0.940   \n",
       "1                             0.1               ..           0.974   \n",
       "2                             0.1               ..           0.925   \n",
       "\n",
       "   Pollution Index  \n",
       "0            20.29  \n",
       "1            21.31  \n",
       "2            33.02  "
      ]
     },
     "execution_count": 2,
     "metadata": {},
     "output_type": "execute_result"
    }
   ],
   "source": [
    "#Importing the CSV file\n",
    "hdi = pd.read_csv('hdro.csv')\n",
    "hdi.head(3)"
   ]
  },
  {
   "cell_type": "code",
   "execution_count": 3,
   "metadata": {},
   "outputs": [
    {
     "name": "stdout",
     "output_type": "stream",
     "text": [
      "<class 'pandas.core.frame.DataFrame'>\n",
      "RangeIndex: 190 entries, 0 to 189\n",
      "Data columns (total 14 columns):\n",
      "Country                            190 non-null object\n",
      "CODE                               187 non-null object\n",
      "Fossil_fuel_usage                  190 non-null object\n",
      "Renewable_energy_usage             190 non-null float64\n",
      "Per_capita_CO2                     190 non-null object\n",
      "Forest_area                        190 non-null object\n",
      "change_in_forest_area              190 non-null object\n",
      "fresh_water_withdrawl              190 non-null object\n",
      "natural_resource_reduction         190 non-null object\n",
      "air_pollution_deaths_per_100000    190 non-null object\n",
      "water_related_deaths_per_100000    190 non-null object\n",
      "land_degradation                   190 non-null object\n",
      "red_list_index                     190 non-null float64\n",
      "Pollution Index                    103 non-null float64\n",
      "dtypes: float64(3), object(11)\n",
      "memory usage: 20.9+ KB\n"
     ]
    }
   ],
   "source": [
    "hdi.info()"
   ]
  },
  {
   "cell_type": "markdown",
   "metadata": {},
   "source": [
    "##### There are few problems with our data. Except for Country and CODE columns, all of the other columns should be float. There are missing values in CODE and Pollution Index columns. We will try to fix these problems in Data Cleaning process."
   ]
  },
  {
   "cell_type": "markdown",
   "metadata": {},
   "source": [
    "### Step-2: Data Cleaning"
   ]
  },
  {
   "cell_type": "code",
   "execution_count": 4,
   "metadata": {},
   "outputs": [
    {
     "name": "stderr",
     "output_type": "stream",
     "text": [
      "/Users/ravidahiya/anaconda3/lib/python3.7/site-packages/ipykernel_launcher.py:3: FutureWarning:\n",
      "\n",
      "\n",
      ".ix is deprecated. Please use\n",
      ".loc for label based indexing or\n",
      ".iloc for positional indexing\n",
      "\n",
      "See the documentation here:\n",
      "http://pandas.pydata.org/pandas-docs/stable/user_guide/indexing.html#ix-indexer-is-deprecated\n",
      "\n",
      "/Users/ravidahiya/anaconda3/lib/python3.7/site-packages/pandas/core/ops/__init__.py:1115: FutureWarning:\n",
      "\n",
      "elementwise comparison failed; returning scalar instead, but in the future will perform elementwise comparison\n",
      "\n"
     ]
    }
   ],
   "source": [
    "# Cleaning the columns that have \"..\" in place of null values\n",
    "for i in range(len(hdi.columns)):\n",
    "    hdi.ix[hdi.ix[:,i] == '..', i] = 0\n",
    "    \n",
    "# Converting the datatype of columns to float\n",
    "for column in hdi.columns:\n",
    "    if column not in ['Country', 'CODE'] :\n",
    "        hdi[column] = hdi[column].astype(float)\n",
    "\n",
    "# Assigning zero to null values in columns 'Pollution Index'\n",
    "hdi['Pollution Index'].fillna(0,inplace=True)"
   ]
  },
  {
   "cell_type": "markdown",
   "metadata": {},
   "source": [
    "### Step-3 Data Visualisation"
   ]
  },
  {
   "cell_type": "markdown",
   "metadata": {},
   "source": [
    "As our primary objective is to let the SOMs organise countries on the basis of the data provided. We will not be using advanced plots. However, we will plot barplot of all the parameters against country CODE."
   ]
  },
  {
   "cell_type": "code",
   "execution_count": 5,
   "metadata": {
    "scrolled": false
   },
   "outputs": [
    {
     "data": {
      "image/png": "[encoded data removed]",
      "text/plain": [
       "<Figure size 1008x2160 with 11 Axes>"
      ]
     },
     "metadata": {
      "needs_background": "light"
     },
     "output_type": "display_data"
    }
   ],
   "source": [
    "fig,ax = plt.subplots(11, figsize=(14,30))\n",
    "columns = ['Fossil_fuel_usage', 'Renewable_energy_usage',\n",
    "       'Per_capita_CO2', 'Forest_area', 'fresh_water_withdrawl',\n",
    "       'natural_resource_reduction', 'air_pollution_deaths_per_100000',\n",
    "       'water_related_deaths_per_100000', 'land_degradation', 'red_list_index',\n",
    "       'Pollution Index']\n",
    "for i in range(11):\n",
    "    sns.barplot(x='CODE',y= columns[i], data=hdi.sort_values(columns[i],ascending=False).head(10), ax=ax[i])\n",
    "plt.tight_layout()\n",
    "plt.show()"
   ]
  },
  {
   "cell_type": "markdown",
   "metadata": {},
   "source": [
    "       As we can see from the plots Middle east, African countries and few countries in Asia are not performing \n",
    "       well on the parameters under observation. "
   ]
  },
  {
   "cell_type": "markdown",
   "metadata": {},
   "source": [
    "### Step-4 Building the SOM model"
   ]
  },
  {
   "cell_type": "markdown",
   "metadata": {},
   "source": [
    "We will be using the minisom library developed by ['JustGlowing']('https://github.com/JustGlowing/minisom')"
   ]
  },
  {
   "cell_type": "code",
   "execution_count": 6,
   "metadata": {},
   "outputs": [],
   "source": [
    "# Applying min max scaling to all the columns except Country & CODE \n",
    "sc = MinMaxScaler()\n",
    "X = sc.fit_transform(hdi.drop(['Country', 'CODE'],axis=1))"
   ]
  },
  {
   "cell_type": "code",
   "execution_count": 7,
   "metadata": {},
   "outputs": [],
   "source": [
    "#Building a 2-D matrix\n",
    "som = MiniSom(12,12,X.shape[1])\n",
    "\n",
    "#Assigning random initial weights\n",
    "som.random_weights_init(X)\n",
    "\n",
    "#Training the model with 100 epochs\n",
    "som.train_random(X,100)"
   ]
  },
  {
   "cell_type": "markdown",
   "metadata": {},
   "source": [
    "### Step-5: Visualising the results"
   ]
  },
  {
   "cell_type": "markdown",
   "metadata": {},
   "source": [
    "'SOM' assigns each row to a node seperated by another node by a certain [Euclidean Distance](\"https://en.wikipedia.org/wiki/Euclidean_distance\"). So, we will plot heatmap of the Euclidean Distances to identify similar and dissimilar nodes. Higher the Euclidean Distance, larger is the dissimilarity between two nodes."
   ]
  },
  {
   "cell_type": "code",
   "execution_count": 8,
   "metadata": {},
   "outputs": [
    {
     "data": {
      "image/png": "[encoded data removed]",
      "text/plain": [
       "<Figure size 1152x864 with 2 Axes>"
      ]
     },
     "metadata": {
      "needs_background": "light"
     },
     "output_type": "display_data"
    }
   ],
   "source": [
    "plt.figure(figsize=(16,12))\n",
    "temp_w1 = []\n",
    "temp_w2 = []\n",
    "sns.heatmap(som.distance_map(), cmap='RdBu_r')\n",
    "for i, x in enumerate(X):\n",
    "    w = som.winner(x)\n",
    "    if w not in temp_w1 :\n",
    "        plt.annotate(hdi['CODE'][i],(w[0],w[1]))\n",
    "        temp_w1.append(w)\n",
    "    else:\n",
    "        plt.annotate(hdi['CODE'][i],(w[0]+0.5,w[1]+0.5))\n",
    "    "
   ]
  },
  {
   "cell_type": "markdown",
   "metadata": {},
   "source": [
    "##### As we can see that the countries are classified and allocated a node on the basis of how similar they are. We will now plot these results using choropleth maps to better understand the situation"
   ]
  },
  {
   "cell_type": "code",
   "execution_count": 9,
   "metadata": {},
   "outputs": [],
   "source": [
    "# Extracting the distance map and allocating the score to the country\n",
    "dist_map = som.distance_map()\n",
    "w=[]\n",
    "for x in X:\n",
    "    w.append(som.winner(x))\n",
    "countries = {}\n",
    "for i in range(len(w)):\n",
    "    countries[i] = dist_map[w[i]]\n",
    "countries = pd.DataFrame(data = countries.values(), index= countries.keys(), columns = ['Indicator'])\n",
    "\n",
    "#Creating Dataframe to be used for chropleth map\n",
    "countries = hdi.join(countries)[['Country', 'CODE','Indicator']]"
   ]
  },
  {
   "cell_type": "code",
   "execution_count": 11,
   "metadata": {},
   "outputs": [
    {
     "data": {
      "application/vnd.plotly.v1+json": {
       "config": {
        "linkText": "Export to plot.ly",
        "plotlyServerURL": "https://plot.ly",
        "showLink": false
       },
       "data": [
        {
         "colorbar": {
          "title": {
           "text": "Environmental Performance"
          }
         },
         "colorscale": [
          [
           0,
           "rgb(161, 105, 40)"
          ],
          [
           0.16666666666666666,
           "rgb(189, 146, 90)"
          ],
          [
           0.3333333333333333,
           "rgb(214, 189, 141)"
          ],
          [
           0.5,
           "rgb(237, 234, 194)"
          ],
          [
           0.6666666666666666,
           "rgb(181, 200, 184)"
          ],
          [
           0.8333333333333334,
           "rgb(121, 167, 172)"
          ],
          [
           1,
           "rgb(40, 135, 161)"
          ]
         ],
         "locations": [
          "NOR",
          "CHE",
          "IRL",
          "DEU",
          "HKG",
          "AUS",
          "ISL",
          "SWE",
          "SGP",
          "NLD",
          "DNK",
          "FIN",
          "CAN",
          "NZL",
          "GBR",
          "USA",
          "BEL",
          "LIE",
          "JPN",
          "AUT",
          "LUX",
          "ISR",
          "KOR",
          "SVN",
          "ESP",
          "CZE",
          "FRA",
          "MLT",
          "ITA",
          "EST",
          "CYP",
          "GRC",
          "POL",
          "LTU",
          "ARE",
          "AND",
          "SAU",
          "SVK",
          "LVA",
          "PRT",
          "QAT",
          "CHL",
          "BRN",
          "HUN",
          "BHR",
          "HRV",
          "OMN",
          "ARG",
          "RUS",
          "BLR",
          "KAZ",
          "BGR",
          "MNE",
          "ROU",
          "PLW",
          "BRB",
          "KWT",
          "URY",
          "TUR",
          "BHM",
          "MYS",
          "SYC",
          "SRB",
          "TTO",
          "IRN",
          "MUS",
          "PAN",
          "CRI",
          "ALB",
          "GEO",
          "LKA",
          "CUB",
          "KNA",
          "ATG",
          "BIH",
          "MEX",
          "THA",
          "GRD",
          "BRA",
          "COL",
          "ARM",
          "DZA",
          "MKD",
          "PER",
          "CHN",
          "ECU",
          "AZE",
          "UKR",
          "DOM",
          "LCA",
          "TUN",
          "MNG",
          "LBN",
          "BWA",
          "VCT",
          "JAM",
          "VEN",
          "DMA",
          "FJI",
          "PRY",
          "SUR",
          "JOR",
          "BLZ",
          "MDV",
          "TON",
          "PHL",
          "MDA",
          "TKM",
          "UZB",
          "LBY",
          "IDN",
          "WSM",
          "ZAF",
          "BOL",
          "GAB",
          "EGY",
          "MHL",
          "VNM",
          null,
          "IRQ",
          "MAR",
          "KGZ",
          "GUY",
          "SLV",
          "TJK",
          "CPV",
          "GTM",
          "NIC",
          "IND",
          "NAM",
          "TLS",
          "HND",
          "KIR",
          "BTN",
          "BGD",
          "FSM",
          "STP",
          "COG",
          null,
          "LAO",
          "VUT",
          "GHA",
          "ZMB",
          "GNQ",
          null,
          "KHM",
          "KEN",
          "NPL",
          "AGO",
          "CMR",
          "ZWE",
          "PAK",
          "SLB",
          "SYR",
          "PNG",
          "COM",
          "RWA",
          "NGA",
          "TZA",
          "UGA",
          "MRT",
          "MDG",
          "BEN",
          "LSO",
          "CIV",
          "SEN",
          "TGO",
          "SDN",
          "HTI",
          "AFG",
          "DJI",
          "MWI",
          "ETH",
          "GMB",
          "GIN",
          "LBR",
          "YEM",
          "GNB",
          "COD",
          "MOZ",
          "SLE",
          "BFA",
          "ERI",
          "MLI",
          "BDI",
          "SSD",
          "TCD",
          "CAF",
          "NER",
          "PRK"
         ],
         "text": [
          "Norway",
          "Switzerland",
          "Ireland",
          "Germany",
          "Hong Kong",
          "Australia",
          "Iceland",
          "Sweden",
          "Singapore",
          "Netherlands",
          "Denmark",
          "Finland",
          "Canada",
          "New Zealand",
          "United Kingdom",
          "United States",
          "Belgium",
          "Liechtenstein",
          "Japan",
          "Austria",
          "Luxembourg",
          "Israel",
          "Korea, South",
          "Slovenia",
          "Spain",
          "Czech Republic",
          "France",
          "Malta",
          "Italy",
          "Estonia",
          "Cyprus",
          "Greece",
          "Poland",
          "Lithuania",
          "United Arab Emirates",
          "Andorra",
          "Saudi Arabia",
          "Slovakia",
          "Latvia",
          "Portugal",
          "Qatar",
          "Chile",
          "Brunei",
          "Hungary",
          "Bahrain",
          "Croatia",
          "Oman",
          "Argentina",
          "Russia",
          "Belarus",
          "Kazakhstan",
          "Bulgaria",
          "Montenegro",
          "Romania",
          "Palau",
          "Barbados",
          "Kuwait",
          "Uruguay",
          "Turkey",
          "Bahamas, The",
          "Malaysia",
          "Seychelles",
          "Serbia",
          "Trinidad and Tobago",
          "Iran",
          "Mauritius",
          "Panama",
          "Costa Rica",
          "Albania",
          "Georgia",
          "Sri Lanka",
          "Cuba",
          "Saint Kitts and Nevis",
          "Antigua and Barbuda",
          "Bosnia and Herzegovina",
          "Mexico",
          "Thailand",
          "Grenada",
          "Brazil",
          "Colombia",
          "Armenia",
          "Algeria",
          "Macedonia",
          "Peru",
          "China",
          "Ecuador",
          "Azerbaijan",
          "Ukraine",
          "Dominican Republic",
          "Saint Lucia",
          "Tunisia",
          "Mongolia",
          "Lebanon",
          "Botswana",
          "Saint Vincent and the Grenadines",
          "Jamaica",
          "Venezuela",
          "Dominica",
          "Fiji",
          "Paraguay",
          "Suriname",
          "Jordan",
          "Belize",
          "Maldives",
          "Tonga",
          "Philippines",
          "Moldova",
          "Turkmenistan",
          "Uzbekistan",
          "Libya",
          "Indonesia",
          "Samoa",
          "South Africa",
          "Bolivia",
          "Gabon",
          "Egypt",
          "Marshall Islands",
          "Vietnam",
          "Palestine, State of",
          "Iraq",
          "Morocco",
          "Kyrgyzstan",
          "Guyana",
          "El Salvador",
          "Tajikistan",
          "Cabo Verde",
          "Guatemala",
          "Nicaragua",
          "India",
          "Namibia",
          "Timor-Leste",
          "Honduras",
          "Kiribati",
          "Bhutan",
          "Bangladesh",
          "Micronesia, Federated States of",
          "Sao Tome and Principe",
          "Congo, Republic of the",
          "Eswatini (Kingdom of)",
          "Laos",
          "Vanuatu",
          "Ghana",
          "Zambia",
          "Equatorial Guinea",
          "Myanmar",
          "Cambodia",
          "Kenya",
          "Nepal",
          "Angola",
          "Cameroon",
          "Zimbabwe",
          "Pakistan",
          "Solomon Islands",
          "Syria",
          "Papua New Guinea",
          "Comoros",
          "Rwanda",
          "Nigeria",
          "Tanzania",
          "Uganda",
          "Mauritania",
          "Madagascar",
          "Benin",
          "Lesotho",
          "Cote d'Ivoire",
          "Senegal",
          "Togo",
          "Sudan",
          "Haiti",
          "Afghanistan",
          "Djibouti",
          "Malawi",
          "Ethiopia",
          "Gambia, The",
          "Guinea",
          "Liberia",
          "Yemen",
          "Guinea-Bissau",
          "Congo, Democratic Republic of the",
          "Mozambique",
          "Sierra Leone",
          "Burkina Faso",
          "Eritrea",
          "Mali",
          "Burundi",
          "South Sudan",
          "Chad",
          "Central African Republic",
          "Niger",
          "Korea, North"
         ],
         "type": "choropleth",
         "z": [
          0.6374790614235771,
          0.346455381702961,
          0.7188231480479947,
          0.6950747215947664,
          0.40799844288610354,
          0.7258936754047778,
          0.49863309495078045,
          0.546353080394898,
          0.7188231480479947,
          0.7188231480479947,
          0.5758897507951651,
          0.546353080394898,
          0.7258936754047778,
          0.5159181547917426,
          0.545973433683695,
          0.7258936754047778,
          0.31850455556222235,
          0.8226497523595737,
          0.5528295683918432,
          0.6374790614235771,
          0.7258936754047778,
          0.40799844288610354,
          0.5412107943641129,
          0.346455381702961,
          0.6767807192046695,
          0.8411378157602212,
          0.560900442876531,
          0.40799844288610354,
          0.8443156393716084,
          0.4407617776030477,
          0.31850455556222235,
          0.7486668870000834,
          0.31850455556222235,
          0.760055953472162,
          0.4369358314839722,
          0.7370144030505623,
          0.192136959423848,
          0.7913995575138839,
          0.760055953472162,
          0.5733089929744304,
          0.4369358314839722,
          0.6596284316503409,
          0.5412107943641129,
          0.5423711638093835,
          0.4369358314839722,
          0.4888839918608471,
          0.4369358314839722,
          0.7124529072765566,
          0.5528295683918432,
          0.8371503155246369,
          0.7124529072765566,
          0.8443156393716084,
          0.6781607078242387,
          0.8443156393716084,
          0,
          0.5562156108702629,
          0.4369358314839722,
          0.4480112981766833,
          0.40799844288610354,
          0.7027098781406381,
          0.5528295683918432,
          0,
          0.8443156393716084,
          0.5412107943641129,
          0.7124529072765566,
          0.3482993232009992,
          0.5734159555564262,
          0.6781607078242387,
          0.7083820619534005,
          0.6484050493800603,
          0.6731368597539946,
          0.5023872341318976,
          0.7027098781406381,
          0.5562156108702629,
          0.5772935651543509,
          0.5222473269684125,
          0.654587124289121,
          0.7027098781406381,
          0.6781607078242387,
          0.5734159555564262,
          0.5290506106482705,
          0.5555552472290868,
          0.6484050493800603,
          0.5734159555564262,
          0.5222473269684125,
          0.5734159555564262,
          0.5555552472290868,
          0.7124529072765566,
          0.654587124289121,
          0.5562156108702629,
          0.5555552472290868,
          0.5555552472290868,
          0.5555552472290868,
          0.5382282475101938,
          0,
          0.5800841686467337,
          0.5734159555564262,
          0.7027098781406381,
          0.7027098781406381,
          0.621767381479368,
          0.34633478391457884,
          0.5555552472290868,
          0.5666295492512086,
          0.5562156108702629,
          0.44312330073442796,
          0.6731368597539946,
          0.46636028023881126,
          0.44312330073442796,
          0.46636028023881126,
          0.192136959423848,
          0.5791625381292294,
          0.8226497523595737,
          0.5222473269684125,
          0.46636028023881126,
          0.5020598269369949,
          0.5555552472290868,
          0.7027098781406381,
          0.6731368597539946,
          0.5562156108702629,
          0.5555552472290868,
          0.7124529072765566,
          0.5730047772934626,
          0.34633478391457884,
          0.5730047772934626,
          0.621767381479368,
          0.459249674238119,
          0.2530185465714785,
          0.5918673344237823,
          0.1699200807684652,
          0.5382282475101938,
          0.4968868795112782,
          0.5918673344237823,
          0.44312330073442796,
          0.5918673344237823,
          0.5222473269684125,
          0,
          0.5918673344237823,
          0.4968868795112782,
          0.21931650311832862,
          0.5918673344237823,
          0.4341576374954228,
          0.7083820619534005,
          0.21931650311832862,
          0.5272562786056385,
          0.7083820619534005,
          0.1699200807684652,
          0.1699200807684652,
          0.1699200807684652,
          0.5020598269369949,
          0.21931650311832862,
          0.1699200807684652,
          0.1699200807684652,
          0.5020598269369949,
          0.5555552472290868,
          0.5020598269369949,
          0.21931650311832862,
          0.49863309495078045,
          0.1699200807684652,
          0.2530185465714785,
          0.21931650311832862,
          0.21931650311832862,
          0.21931650311832862,
          0.21931650311832862,
          0.21931650311832862,
          0.21931650311832862,
          0.31916793883803873,
          0.21931650311832862,
          0.21931650311832862,
          0.21931650311832862,
          0.5275030434563881,
          0.4765083672989314,
          0.21931650311832862,
          0.1699200807684652,
          0.21931650311832862,
          0.21931650311832862,
          0.21931650311832862,
          0.7477115653211528,
          0.21931650311832862,
          0.21931650311832862,
          0.5918673344237823,
          0.21931650311832862,
          0.21931650311832862,
          0.21931650311832862,
          0.21931650311832862,
          0.21931650311832862,
          0.2438967192997391,
          0.21931650311832862,
          0.21931650311832862,
          0.21931650311832862,
          0.5730047772934626
         ]
        }
       ],
       "layout": {
        "geo": {
         "projection": {
          "type": "equirectangular"
         },
         "showframe": false
        },
        "template": {
         "data": {
          "bar": [
           {
            "error_x": {
             "color": "#2a3f5f"
            },
            "error_y": {
             "color": "#2a3f5f"
            },
            "marker": {
             "line": {
              "color": "#E5ECF6",
              "width": 0.5
             }
            },
            "type": "bar"
           }
          ],
          "barpolar": [
           {
            "marker": {
             "line": {
              "color": "#E5ECF6",
              "width": 0.5
             }
            },
            "type": "barpolar"
           }
          ],
          "carpet": [
           {
            "aaxis": {
             "endlinecolor": "#2a3f5f",
             "gridcolor": "white",
             "linecolor": "white",
             "minorgridcolor": "white",
             "startlinecolor": "#2a3f5f"
            },
            "baxis": {
             "endlinecolor": "#2a3f5f",
             "gridcolor": "white",
             "linecolor": "white",
             "minorgridcolor": "white",
             "startlinecolor": "#2a3f5f"
            },
            "type": "carpet"
           }
          ],
          "choropleth": [
           {
            "colorbar": {
             "outlinewidth": 0,
             "ticks": ""
            },
            "type": "choropleth"
           }
          ],
          "contour": [
           {
            "colorbar": {
             "outlinewidth": 0,
             "ticks": ""
            },
            "colorscale": [
             [
              0,
              "#0d0887"
             ],
             [
              0.1111111111111111,
              "#46039f"
             ],
             [
              0.2222222222222222,
              "#7201a8"
             ],
             [
              0.3333333333333333,
              "#9c179e"
             ],
             [
              0.4444444444444444,
              "#bd3786"
             ],
             [
              0.5555555555555556,
              "#d8576b"
             ],
             [
              0.6666666666666666,
              "#ed7953"
             ],
             [
              0.7777777777777778,
              "#fb9f3a"
             ],
             [
              0.8888888888888888,
              "#fdca26"
             ],
             [
              1,
              "#f0f921"
             ]
            ],
            "type": "contour"
           }
          ],
          "contourcarpet": [
           {
            "colorbar": {
             "outlinewidth": 0,
             "ticks": ""
            },
            "type": "contourcarpet"
           }
          ],
          "heatmap": [
           {
            "colorbar": {
             "outlinewidth": 0,
             "ticks": ""
            },
            "colorscale": [
             [
              0,
              "#0d0887"
             ],
             [
              0.1111111111111111,
              "#46039f"
             ],
             [
              0.2222222222222222,
              "#7201a8"
             ],
             [
              0.3333333333333333,
              "#9c179e"
             ],
             [
              0.4444444444444444,
              "#bd3786"
             ],
             [
              0.5555555555555556,
              "#d8576b"
             ],
             [
              0.6666666666666666,
              "#ed7953"
             ],
             [
              0.7777777777777778,
              "#fb9f3a"
             ],
             [
              0.8888888888888888,
              "#fdca26"
             ],
             [
              1,
              "#f0f921"
             ]
            ],
            "type": "heatmap"
           }
          ],
          "heatmapgl": [
           {
            "colorbar": {
             "outlinewidth": 0,
             "ticks": ""
            },
            "colorscale": [
             [
              0,
              "#0d0887"
             ],
             [
              0.1111111111111111,
              "#46039f"
             ],
             [
              0.2222222222222222,
              "#7201a8"
             ],
             [
              0.3333333333333333,
              "#9c179e"
             ],
             [
              0.4444444444444444,
              "#bd3786"
             ],
             [
              0.5555555555555556,
              "#d8576b"
             ],
             [
              0.6666666666666666,
              "#ed7953"
             ],
             [
              0.7777777777777778,
              "#fb9f3a"
             ],
             [
              0.8888888888888888,
              "#fdca26"
             ],
             [
              1,
              "#f0f921"
             ]
            ],
            "type": "heatmapgl"
           }
          ],
          "histogram": [
           {
            "marker": {
             "colorbar": {
              "outlinewidth": 0,
              "ticks": ""
             }
            },
            "type": "histogram"
           }
          ],
          "histogram2d": [
           {
            "colorbar": {
             "outlinewidth": 0,
             "ticks": ""
            },
            "colorscale": [
             [
              0,
              "#0d0887"
             ],
             [
              0.1111111111111111,
              "#46039f"
             ],
             [
              0.2222222222222222,
              "#7201a8"
             ],
             [
              0.3333333333333333,
              "#9c179e"
             ],
             [
              0.4444444444444444,
              "#bd3786"
             ],
             [
              0.5555555555555556,
              "#d8576b"
             ],
             [
              0.6666666666666666,
              "#ed7953"
             ],
             [
              0.7777777777777778,
              "#fb9f3a"
             ],
             [
              0.8888888888888888,
              "#fdca26"
             ],
             [
              1,
              "#f0f921"
             ]
            ],
            "type": "histogram2d"
           }
          ],
          "histogram2dcontour": [
           {
            "colorbar": {
             "outlinewidth": 0,
             "ticks": ""
            },
            "colorscale": [
             [
              0,
              "#0d0887"
             ],
             [
              0.1111111111111111,
              "#46039f"
             ],
             [
              0.2222222222222222,
              "#7201a8"
             ],
             [
              0.3333333333333333,
              "#9c179e"
             ],
             [
              0.4444444444444444,
              "#bd3786"
             ],
             [
              0.5555555555555556,
              "#d8576b"
             ],
             [
              0.6666666666666666,
              "#ed7953"
             ],
             [
              0.7777777777777778,
              "#fb9f3a"
             ],
             [
              0.8888888888888888,
              "#fdca26"
             ],
             [
              1,
              "#f0f921"
             ]
            ],
            "type": "histogram2dcontour"
           }
          ],
          "mesh3d": [
           {
            "colorbar": {
             "outlinewidth": 0,
             "ticks": ""
            },
            "type": "mesh3d"
           }
          ],
          "parcoords": [
           {
            "line": {
             "colorbar": {
              "outlinewidth": 0,
              "ticks": ""
             }
            },
            "type": "parcoords"
           }
          ],
          "pie": [
           {
            "automargin": true,
            "type": "pie"
           }
          ],
          "scatter": [
           {
            "marker": {
             "colorbar": {
              "outlinewidth": 0,
              "ticks": ""
             }
            },
            "type": "scatter"
           }
          ],
          "scatter3d": [
           {
            "line": {
             "colorbar": {
              "outlinewidth": 0,
              "ticks": ""
             }
            },
            "marker": {
             "colorbar": {
              "outlinewidth": 0,
              "ticks": ""
             }
            },
            "type": "scatter3d"
           }
          ],
          "scattercarpet": [
           {
            "marker": {
             "colorbar": {
              "outlinewidth": 0,
              "ticks": ""
             }
            },
            "type": "scattercarpet"
           }
          ],
          "scattergeo": [
           {
            "marker": {
             "colorbar": {
              "outlinewidth": 0,
              "ticks": ""
             }
            },
            "type": "scattergeo"
           }
          ],
          "scattergl": [
           {
            "marker": {
             "colorbar": {
              "outlinewidth": 0,
              "ticks": ""
             }
            },
            "type": "scattergl"
           }
          ],
          "scattermapbox": [
           {
            "marker": {
             "colorbar": {
              "outlinewidth": 0,
              "ticks": ""
             }
            },
            "type": "scattermapbox"
           }
          ],
          "scatterpolar": [
           {
            "marker": {
             "colorbar": {
              "outlinewidth": 0,
              "ticks": ""
             }
            },
            "type": "scatterpolar"
           }
          ],
          "scatterpolargl": [
           {
            "marker": {
             "colorbar": {
              "outlinewidth": 0,
              "ticks": ""
             }
            },
            "type": "scatterpolargl"
           }
          ],
          "scatterternary": [
           {
            "marker": {
             "colorbar": {
              "outlinewidth": 0,
              "ticks": ""
             }
            },
            "type": "scatterternary"
           }
          ],
          "surface": [
           {
            "colorbar": {
             "outlinewidth": 0,
             "ticks": ""
            },
            "colorscale": [
             [
              0,
              "#0d0887"
             ],
             [
              0.1111111111111111,
              "#46039f"
             ],
             [
              0.2222222222222222,
              "#7201a8"
             ],
             [
              0.3333333333333333,
              "#9c179e"
             ],
             [
              0.4444444444444444,
              "#bd3786"
             ],
             [
              0.5555555555555556,
              "#d8576b"
             ],
             [
              0.6666666666666666,
              "#ed7953"
             ],
             [
              0.7777777777777778,
              "#fb9f3a"
             ],
             [
              0.8888888888888888,
              "#fdca26"
             ],
             [
              1,
              "#f0f921"
             ]
            ],
            "type": "surface"
           }
          ],
          "table": [
           {
            "cells": {
             "fill": {
              "color": "#EBF0F8"
             },
             "line": {
              "color": "white"
             }
            },
            "header": {
             "fill": {
              "color": "#C8D4E3"
             },
             "line": {
              "color": "white"
             }
            },
            "type": "table"
           }
          ]
         },
         "layout": {
          "annotationdefaults": {
           "arrowcolor": "#2a3f5f",
           "arrowhead": 0,
           "arrowwidth": 1
          },
          "coloraxis": {
           "colorbar": {
            "outlinewidth": 0,
            "ticks": ""
           }
          },
          "colorscale": {
           "diverging": [
            [
             0,
             "#8e0152"
            ],
            [
             0.1,
             "#c51b7d"
            ],
            [
             0.2,
             "#de77ae"
            ],
            [
             0.3,
             "#f1b6da"
            ],
            [
             0.4,
             "#fde0ef"
            ],
            [
             0.5,
             "#f7f7f7"
            ],
            [
             0.6,
             "#e6f5d0"
            ],
            [
             0.7,
             "#b8e186"
            ],
            [
             0.8,
             "#7fbc41"
            ],
            [
             0.9,
             "#4d9221"
            ],
            [
             1,
             "#276419"
            ]
           ],
           "sequential": [
            [
             0,
             "#0d0887"
            ],
            [
             0.1111111111111111,
             "#46039f"
            ],
            [
             0.2222222222222222,
             "#7201a8"
            ],
            [
             0.3333333333333333,
             "#9c179e"
            ],
            [
             0.4444444444444444,
             "#bd3786"
            ],
            [
             0.5555555555555556,
             "#d8576b"
            ],
            [
             0.6666666666666666,
             "#ed7953"
            ],
            [
             0.7777777777777778,
             "#fb9f3a"
            ],
            [
             0.8888888888888888,
             "#fdca26"
            ],
            [
             1,
             "#f0f921"
            ]
           ],
           "sequentialminus": [
            [
             0,
             "#0d0887"
            ],
            [
             0.1111111111111111,
             "#46039f"
            ],
            [
             0.2222222222222222,
             "#7201a8"
            ],
            [
             0.3333333333333333,
             "#9c179e"
            ],
            [
             0.4444444444444444,
             "#bd3786"
            ],
            [
             0.5555555555555556,
             "#d8576b"
            ],
            [
             0.6666666666666666,
             "#ed7953"
            ],
            [
             0.7777777777777778,
             "#fb9f3a"
            ],
            [
             0.8888888888888888,
             "#fdca26"
            ],
            [
             1,
             "#f0f921"
            ]
           ]
          },
          "colorway": [
           "#636efa",
           "#EF553B",
           "#00cc96",
           "#ab63fa",
           "#FFA15A",
           "#19d3f3",
           "#FF6692",
           "#B6E880",
           "#FF97FF",
           "#FECB52"
          ],
          "font": {
           "color": "#2a3f5f"
          },
          "geo": {
           "bgcolor": "white",
           "lakecolor": "white",
           "landcolor": "#E5ECF6",
           "showlakes": true,
           "showland": true,
           "subunitcolor": "white"
          },
          "hoverlabel": {
           "align": "left"
          },
          "hovermode": "closest",
          "mapbox": {
           "style": "light"
          },
          "paper_bgcolor": "white",
          "plot_bgcolor": "#E5ECF6",
          "polar": {
           "angularaxis": {
            "gridcolor": "white",
            "linecolor": "white",
            "ticks": ""
           },
           "bgcolor": "#E5ECF6",
           "radialaxis": {
            "gridcolor": "white",
            "linecolor": "white",
            "ticks": ""
           }
          },
          "scene": {
           "xaxis": {
            "backgroundcolor": "#E5ECF6",
            "gridcolor": "white",
            "gridwidth": 2,
            "linecolor": "white",
            "showbackground": true,
            "ticks": "",
            "zerolinecolor": "white"
           },
           "yaxis": {
            "backgroundcolor": "#E5ECF6",
            "gridcolor": "white",
            "gridwidth": 2,
            "linecolor": "white",
            "showbackground": true,
            "ticks": "",
            "zerolinecolor": "white"
           },
           "zaxis": {
            "backgroundcolor": "#E5ECF6",
            "gridcolor": "white",
            "gridwidth": 2,
            "linecolor": "white",
            "showbackground": true,
            "ticks": "",
            "zerolinecolor": "white"
           }
          },
          "shapedefaults": {
           "line": {
            "color": "#2a3f5f"
           }
          },
          "ternary": {
           "aaxis": {
            "gridcolor": "white",
            "linecolor": "white",
            "ticks": ""
           },
           "baxis": {
            "gridcolor": "white",
            "linecolor": "white",
            "ticks": ""
           },
           "bgcolor": "#E5ECF6",
           "caxis": {
            "gridcolor": "white",
            "linecolor": "white",
            "ticks": ""
           }
          },
          "title": {
           "x": 0.05
          },
          "xaxis": {
           "automargin": true,
           "gridcolor": "white",
           "linecolor": "white",
           "ticks": "",
           "title": {
            "standoff": 15
           },
           "zerolinecolor": "white",
           "zerolinewidth": 2
          },
          "yaxis": {
           "automargin": true,
           "gridcolor": "white",
           "linecolor": "white",
           "ticks": "",
           "title": {
            "standoff": 15
           },
           "zerolinecolor": "white",
           "zerolinewidth": 2
          }
         }
        },
        "title": {
         "text": "World Environment Sustainability-2018"
        }
       }
      },
      "text/html": [
       "<div>\n",
       "        \n",
       "        \n",
       "            <div id=\"5d3f5c09-e63b-4e92-a19e-1dce4941716a\" class=\"plotly-graph-div\" style=\"height:525px; width:100%;\"></div>\n",
       "            <script type=\"text/javascript\">\n",
       "                require([\"plotly\"], function(Plotly) {\n",
       "                    window.PLOTLYENV=window.PLOTLYENV || {};\n",
       "                    \n",
       "                if (document.getElementById(\"5d3f5c09-e63b-4e92-a19e-1dce4941716a\")) {\n",
       "                    Plotly.newPlot(\n",
       "                        '5d3f5c09-e63b-4e92-a19e-1dce4941716a',\n",
       "                        [{\"colorbar\": {\"title\": {\"text\": \"Environmental Performance\"}}, \"colorscale\": [[0.0, \"rgb(161, 105, 40)\"], [0.16666666666666666, \"rgb(189, 146, 90)\"], [0.3333333333333333, \"rgb(214, 189, 141)\"], [0.5, \"rgb(237, 234, 194)\"], [0.6666666666666666, \"rgb(181, 200, 184)\"], [0.8333333333333334, \"rgb(121, 167, 172)\"], [1.0, \"rgb(40, 135, 161)\"]], \"locations\": [\"NOR\", \"CHE\", \"IRL\", \"DEU\", \"HKG\", \"AUS\", \"ISL\", \"SWE\", \"SGP\", \"NLD\", \"DNK\", \"FIN\", \"CAN\", \"NZL\", \"GBR\", \"USA\", \"BEL\", \"LIE\", \"JPN\", \"AUT\", \"LUX\", \"ISR\", \"KOR\", \"SVN\", \"ESP\", \"CZE\", \"FRA\", \"MLT\", \"ITA\", \"EST\", \"CYP\", \"GRC\", \"POL\", \"LTU\", \"ARE\", \"AND\", \"SAU\", \"SVK\", \"LVA\", \"PRT\", \"QAT\", \"CHL\", \"BRN\", \"HUN\", \"BHR\", \"HRV\", \"OMN\", \"ARG\", \"RUS\", \"BLR\", \"KAZ\", \"BGR\", \"MNE\", \"ROU\", \"PLW\", \"BRB\", \"KWT\", \"URY\", \"TUR\", \"BHM\", \"MYS\", \"SYC\", \"SRB\", \"TTO\", \"IRN\", \"MUS\", \"PAN\", \"CRI\", \"ALB\", \"GEO\", \"LKA\", \"CUB\", \"KNA\", \"ATG\", \"BIH\", \"MEX\", \"THA\", \"GRD\", \"BRA\", \"COL\", \"ARM\", \"DZA\", \"MKD\", \"PER\", \"CHN\", \"ECU\", \"AZE\", \"UKR\", \"DOM\", \"LCA\", \"TUN\", \"MNG\", \"LBN\", \"BWA\", \"VCT\", \"JAM\", \"VEN\", \"DMA\", \"FJI\", \"PRY\", \"SUR\", \"JOR\", \"BLZ\", \"MDV\", \"TON\", \"PHL\", \"MDA\", \"TKM\", \"UZB\", \"LBY\", \"IDN\", \"WSM\", \"ZAF\", \"BOL\", \"GAB\", \"EGY\", \"MHL\", \"VNM\", null, \"IRQ\", \"MAR\", \"KGZ\", \"GUY\", \"SLV\", \"TJK\", \"CPV\", \"GTM\", \"NIC\", \"IND\", \"NAM\", \"TLS\", \"HND\", \"KIR\", \"BTN\", \"BGD\", \"FSM\", \"STP\", \"COG\", null, \"LAO\", \"VUT\", \"GHA\", \"ZMB\", \"GNQ\", null, \"KHM\", \"KEN\", \"NPL\", \"AGO\", \"CMR\", \"ZWE\", \"PAK\", \"SLB\", \"SYR\", \"PNG\", \"COM\", \"RWA\", \"NGA\", \"TZA\", \"UGA\", \"MRT\", \"MDG\", \"BEN\", \"LSO\", \"CIV\", \"SEN\", \"TGO\", \"SDN\", \"HTI\", \"AFG\", \"DJI\", \"MWI\", \"ETH\", \"GMB\", \"GIN\", \"LBR\", \"YEM\", \"GNB\", \"COD\", \"MOZ\", \"SLE\", \"BFA\", \"ERI\", \"MLI\", \"BDI\", \"SSD\", \"TCD\", \"CAF\", \"NER\", \"PRK\"], \"text\": [\"Norway\", \"Switzerland\", \"Ireland\", \"Germany\", \"Hong Kong\", \"Australia\", \"Iceland\", \"Sweden\", \"Singapore\", \"Netherlands\", \"Denmark\", \"Finland\", \"Canada\", \"New Zealand\", \"United Kingdom\", \"United States\", \"Belgium\", \"Liechtenstein\", \"Japan\", \"Austria\", \"Luxembourg\", \"Israel\", \"Korea, South\", \"Slovenia\", \"Spain\", \"Czech Republic\", \"France\", \"Malta\", \"Italy\", \"Estonia\", \"Cyprus\", \"Greece\", \"Poland\", \"Lithuania\", \"United Arab Emirates\", \"Andorra\", \"Saudi Arabia\", \"Slovakia\", \"Latvia\", \"Portugal\", \"Qatar\", \"Chile\", \"Brunei\", \"Hungary\", \"Bahrain\", \"Croatia\", \"Oman\", \"Argentina\", \"Russia\", \"Belarus\", \"Kazakhstan\", \"Bulgaria\", \"Montenegro\", \"Romania\", \"Palau\", \"Barbados\", \"Kuwait\", \"Uruguay\", \"Turkey\", \"Bahamas, The\", \"Malaysia\", \"Seychelles\", \"Serbia\", \"Trinidad and Tobago\", \"Iran\", \"Mauritius\", \"Panama\", \"Costa Rica\", \"Albania\", \"Georgia\", \"Sri Lanka\", \"Cuba\", \"Saint Kitts and Nevis\", \"Antigua and Barbuda\", \"Bosnia and Herzegovina\", \"Mexico\", \"Thailand\", \"Grenada\", \"Brazil\", \"Colombia\", \"Armenia\", \"Algeria\", \"Macedonia\", \"Peru\", \"China\", \"Ecuador\", \"Azerbaijan\", \"Ukraine\", \"Dominican Republic\", \"Saint Lucia\", \"Tunisia\", \"Mongolia\", \"Lebanon\", \"Botswana\", \"Saint Vincent and the Grenadines\", \"Jamaica\", \"Venezuela\", \"Dominica\", \"Fiji\", \"Paraguay\", \"Suriname\", \"Jordan\", \"Belize\", \"Maldives\", \"Tonga\", \"Philippines\", \"Moldova\", \"Turkmenistan\", \"Uzbekistan\", \"Libya\", \"Indonesia\", \"Samoa\", \"South Africa\", \"Bolivia\", \"Gabon\", \"Egypt\", \"Marshall Islands\", \"Vietnam\", \"Palestine, State of\", \"Iraq\", \"Morocco\", \"Kyrgyzstan\", \"Guyana\", \"El Salvador\", \"Tajikistan\", \"Cabo Verde\", \"Guatemala\", \"Nicaragua\", \"India\", \"Namibia\", \"Timor-Leste\", \"Honduras\", \"Kiribati\", \"Bhutan\", \"Bangladesh\", \"Micronesia, Federated States of\", \"Sao Tome and Principe\", \"Congo, Republic of the\", \"Eswatini (Kingdom of)\", \"Laos\", \"Vanuatu\", \"Ghana\", \"Zambia\", \"Equatorial Guinea\", \"Myanmar\", \"Cambodia\", \"Kenya\", \"Nepal\", \"Angola\", \"Cameroon\", \"Zimbabwe\", \"Pakistan\", \"Solomon Islands\", \"Syria\", \"Papua New Guinea\", \"Comoros\", \"Rwanda\", \"Nigeria\", \"Tanzania\", \"Uganda\", \"Mauritania\", \"Madagascar\", \"Benin\", \"Lesotho\", \"Cote d'Ivoire\", \"Senegal\", \"Togo\", \"Sudan\", \"Haiti\", \"Afghanistan\", \"Djibouti\", \"Malawi\", \"Ethiopia\", \"Gambia, The\", \"Guinea\", \"Liberia\", \"Yemen\", \"Guinea-Bissau\", \"Congo, Democratic Republic of the\", \"Mozambique\", \"Sierra Leone\", \"Burkina Faso\", \"Eritrea\", \"Mali\", \"Burundi\", \"South Sudan\", \"Chad\", \"Central African Republic\", \"Niger\", \"Korea, North\"], \"type\": \"choropleth\", \"z\": [0.6374790614235771, 0.346455381702961, 0.7188231480479947, 0.6950747215947664, 0.40799844288610354, 0.7258936754047778, 0.49863309495078045, 0.546353080394898, 0.7188231480479947, 0.7188231480479947, 0.5758897507951651, 0.546353080394898, 0.7258936754047778, 0.5159181547917426, 0.545973433683695, 0.7258936754047778, 0.31850455556222235, 0.8226497523595737, 0.5528295683918432, 0.6374790614235771, 0.7258936754047778, 0.40799844288610354, 0.5412107943641129, 0.346455381702961, 0.6767807192046695, 0.8411378157602212, 0.560900442876531, 0.40799844288610354, 0.8443156393716084, 0.4407617776030477, 0.31850455556222235, 0.7486668870000834, 0.31850455556222235, 0.760055953472162, 0.4369358314839722, 0.7370144030505623, 0.192136959423848, 0.7913995575138839, 0.760055953472162, 0.5733089929744304, 0.4369358314839722, 0.6596284316503409, 0.5412107943641129, 0.5423711638093835, 0.4369358314839722, 0.4888839918608471, 0.4369358314839722, 0.7124529072765566, 0.5528295683918432, 0.8371503155246369, 0.7124529072765566, 0.8443156393716084, 0.6781607078242387, 0.8443156393716084, 0.0, 0.5562156108702629, 0.4369358314839722, 0.4480112981766833, 0.40799844288610354, 0.7027098781406381, 0.5528295683918432, 0.0, 0.8443156393716084, 0.5412107943641129, 0.7124529072765566, 0.3482993232009992, 0.5734159555564262, 0.6781607078242387, 0.7083820619534005, 0.6484050493800603, 0.6731368597539946, 0.5023872341318976, 0.7027098781406381, 0.5562156108702629, 0.5772935651543509, 0.5222473269684125, 0.654587124289121, 0.7027098781406381, 0.6781607078242387, 0.5734159555564262, 0.5290506106482705, 0.5555552472290868, 0.6484050493800603, 0.5734159555564262, 0.5222473269684125, 0.5734159555564262, 0.5555552472290868, 0.7124529072765566, 0.654587124289121, 0.5562156108702629, 0.5555552472290868, 0.5555552472290868, 0.5555552472290868, 0.5382282475101938, 0.0, 0.5800841686467337, 0.5734159555564262, 0.7027098781406381, 0.7027098781406381, 0.621767381479368, 0.34633478391457884, 0.5555552472290868, 0.5666295492512086, 0.5562156108702629, 0.44312330073442796, 0.6731368597539946, 0.46636028023881126, 0.44312330073442796, 0.46636028023881126, 0.192136959423848, 0.5791625381292294, 0.8226497523595737, 0.5222473269684125, 0.46636028023881126, 0.5020598269369949, 0.5555552472290868, 0.7027098781406381, 0.6731368597539946, 0.5562156108702629, 0.5555552472290868, 0.7124529072765566, 0.5730047772934626, 0.34633478391457884, 0.5730047772934626, 0.621767381479368, 0.459249674238119, 0.2530185465714785, 0.5918673344237823, 0.1699200807684652, 0.5382282475101938, 0.4968868795112782, 0.5918673344237823, 0.44312330073442796, 0.5918673344237823, 0.5222473269684125, 0.0, 0.5918673344237823, 0.4968868795112782, 0.21931650311832862, 0.5918673344237823, 0.4341576374954228, 0.7083820619534005, 0.21931650311832862, 0.5272562786056385, 0.7083820619534005, 0.1699200807684652, 0.1699200807684652, 0.1699200807684652, 0.5020598269369949, 0.21931650311832862, 0.1699200807684652, 0.1699200807684652, 0.5020598269369949, 0.5555552472290868, 0.5020598269369949, 0.21931650311832862, 0.49863309495078045, 0.1699200807684652, 0.2530185465714785, 0.21931650311832862, 0.21931650311832862, 0.21931650311832862, 0.21931650311832862, 0.21931650311832862, 0.21931650311832862, 0.31916793883803873, 0.21931650311832862, 0.21931650311832862, 0.21931650311832862, 0.5275030434563881, 0.4765083672989314, 0.21931650311832862, 0.1699200807684652, 0.21931650311832862, 0.21931650311832862, 0.21931650311832862, 0.7477115653211528, 0.21931650311832862, 0.21931650311832862, 0.5918673344237823, 0.21931650311832862, 0.21931650311832862, 0.21931650311832862, 0.21931650311832862, 0.21931650311832862, 0.2438967192997391, 0.21931650311832862, 0.21931650311832862, 0.21931650311832862, 0.5730047772934626]}],\n",
       "                        {\"geo\": {\"projection\": {\"type\": \"equirectangular\"}, \"showframe\": false}, \"template\": {\"data\": {\"bar\": [{\"error_x\": {\"color\": \"#2a3f5f\"}, \"error_y\": {\"color\": \"#2a3f5f\"}, \"marker\": {\"line\": {\"color\": \"#E5ECF6\", \"width\": 0.5}}, \"type\": \"bar\"}], \"barpolar\": [{\"marker\": {\"line\": {\"color\": \"#E5ECF6\", \"width\": 0.5}}, \"type\": \"barpolar\"}], \"carpet\": [{\"aaxis\": {\"endlinecolor\": \"#2a3f5f\", \"gridcolor\": \"white\", \"linecolor\": \"white\", \"minorgridcolor\": \"white\", \"startlinecolor\": \"#2a3f5f\"}, \"baxis\": {\"endlinecolor\": \"#2a3f5f\", \"gridcolor\": \"white\", \"linecolor\": \"white\", \"minorgridcolor\": \"white\", \"startlinecolor\": \"#2a3f5f\"}, \"type\": \"carpet\"}], \"choropleth\": [{\"colorbar\": {\"outlinewidth\": 0, \"ticks\": \"\"}, \"type\": \"choropleth\"}], \"contour\": [{\"colorbar\": {\"outlinewidth\": 0, \"ticks\": \"\"}, \"colorscale\": [[0.0, \"#0d0887\"], [0.1111111111111111, \"#46039f\"], [0.2222222222222222, \"#7201a8\"], [0.3333333333333333, \"#9c179e\"], [0.4444444444444444, \"#bd3786\"], [0.5555555555555556, \"#d8576b\"], [0.6666666666666666, \"#ed7953\"], [0.7777777777777778, \"#fb9f3a\"], [0.8888888888888888, \"#fdca26\"], [1.0, \"#f0f921\"]], \"type\": \"contour\"}], \"contourcarpet\": [{\"colorbar\": {\"outlinewidth\": 0, \"ticks\": \"\"}, \"type\": \"contourcarpet\"}], \"heatmap\": [{\"colorbar\": {\"outlinewidth\": 0, \"ticks\": \"\"}, \"colorscale\": [[0.0, \"#0d0887\"], [0.1111111111111111, \"#46039f\"], [0.2222222222222222, \"#7201a8\"], [0.3333333333333333, \"#9c179e\"], [0.4444444444444444, \"#bd3786\"], [0.5555555555555556, \"#d8576b\"], [0.6666666666666666, \"#ed7953\"], [0.7777777777777778, \"#fb9f3a\"], [0.8888888888888888, \"#fdca26\"], [1.0, \"#f0f921\"]], \"type\": \"heatmap\"}], \"heatmapgl\": [{\"colorbar\": {\"outlinewidth\": 0, \"ticks\": \"\"}, \"colorscale\": [[0.0, \"#0d0887\"], [0.1111111111111111, \"#46039f\"], [0.2222222222222222, \"#7201a8\"], [0.3333333333333333, \"#9c179e\"], [0.4444444444444444, \"#bd3786\"], [0.5555555555555556, \"#d8576b\"], [0.6666666666666666, \"#ed7953\"], [0.7777777777777778, \"#fb9f3a\"], [0.8888888888888888, \"#fdca26\"], [1.0, \"#f0f921\"]], \"type\": \"heatmapgl\"}], \"histogram\": [{\"marker\": {\"colorbar\": {\"outlinewidth\": 0, \"ticks\": \"\"}}, \"type\": \"histogram\"}], \"histogram2d\": [{\"colorbar\": {\"outlinewidth\": 0, \"ticks\": \"\"}, \"colorscale\": [[0.0, \"#0d0887\"], [0.1111111111111111, \"#46039f\"], [0.2222222222222222, \"#7201a8\"], [0.3333333333333333, \"#9c179e\"], [0.4444444444444444, \"#bd3786\"], [0.5555555555555556, \"#d8576b\"], [0.6666666666666666, \"#ed7953\"], [0.7777777777777778, \"#fb9f3a\"], [0.8888888888888888, \"#fdca26\"], [1.0, \"#f0f921\"]], \"type\": \"histogram2d\"}], \"histogram2dcontour\": [{\"colorbar\": {\"outlinewidth\": 0, \"ticks\": \"\"}, \"colorscale\": [[0.0, \"#0d0887\"], [0.1111111111111111, \"#46039f\"], [0.2222222222222222, \"#7201a8\"], [0.3333333333333333, \"#9c179e\"], [0.4444444444444444, \"#bd3786\"], [0.5555555555555556, \"#d8576b\"], [0.6666666666666666, \"#ed7953\"], [0.7777777777777778, \"#fb9f3a\"], [0.8888888888888888, \"#fdca26\"], [1.0, \"#f0f921\"]], \"type\": \"histogram2dcontour\"}], \"mesh3d\": [{\"colorbar\": {\"outlinewidth\": 0, \"ticks\": \"\"}, \"type\": \"mesh3d\"}], \"parcoords\": [{\"line\": {\"colorbar\": {\"outlinewidth\": 0, \"ticks\": \"\"}}, \"type\": \"parcoords\"}], \"pie\": [{\"automargin\": true, \"type\": \"pie\"}], \"scatter\": [{\"marker\": {\"colorbar\": {\"outlinewidth\": 0, \"ticks\": \"\"}}, \"type\": \"scatter\"}], \"scatter3d\": [{\"line\": {\"colorbar\": {\"outlinewidth\": 0, \"ticks\": \"\"}}, \"marker\": {\"colorbar\": {\"outlinewidth\": 0, \"ticks\": \"\"}}, \"type\": \"scatter3d\"}], \"scattercarpet\": [{\"marker\": {\"colorbar\": {\"outlinewidth\": 0, \"ticks\": \"\"}}, \"type\": \"scattercarpet\"}], \"scattergeo\": [{\"marker\": {\"colorbar\": {\"outlinewidth\": 0, \"ticks\": \"\"}}, \"type\": \"scattergeo\"}], \"scattergl\": [{\"marker\": {\"colorbar\": {\"outlinewidth\": 0, \"ticks\": \"\"}}, \"type\": \"scattergl\"}], \"scattermapbox\": [{\"marker\": {\"colorbar\": {\"outlinewidth\": 0, \"ticks\": \"\"}}, \"type\": \"scattermapbox\"}], \"scatterpolar\": [{\"marker\": {\"colorbar\": {\"outlinewidth\": 0, \"ticks\": \"\"}}, \"type\": \"scatterpolar\"}], \"scatterpolargl\": [{\"marker\": {\"colorbar\": {\"outlinewidth\": 0, \"ticks\": \"\"}}, \"type\": \"scatterpolargl\"}], \"scatterternary\": [{\"marker\": {\"colorbar\": {\"outlinewidth\": 0, \"ticks\": \"\"}}, \"type\": \"scatterternary\"}], \"surface\": [{\"colorbar\": {\"outlinewidth\": 0, \"ticks\": \"\"}, \"colorscale\": [[0.0, \"#0d0887\"], [0.1111111111111111, \"#46039f\"], [0.2222222222222222, \"#7201a8\"], [0.3333333333333333, \"#9c179e\"], [0.4444444444444444, \"#bd3786\"], [0.5555555555555556, \"#d8576b\"], [0.6666666666666666, \"#ed7953\"], [0.7777777777777778, \"#fb9f3a\"], [0.8888888888888888, \"#fdca26\"], [1.0, \"#f0f921\"]], \"type\": \"surface\"}], \"table\": [{\"cells\": {\"fill\": {\"color\": \"#EBF0F8\"}, \"line\": {\"color\": \"white\"}}, \"header\": {\"fill\": {\"color\": \"#C8D4E3\"}, \"line\": {\"color\": \"white\"}}, \"type\": \"table\"}]}, \"layout\": {\"annotationdefaults\": {\"arrowcolor\": \"#2a3f5f\", \"arrowhead\": 0, \"arrowwidth\": 1}, \"coloraxis\": {\"colorbar\": {\"outlinewidth\": 0, \"ticks\": \"\"}}, \"colorscale\": {\"diverging\": [[0, \"#8e0152\"], [0.1, \"#c51b7d\"], [0.2, \"#de77ae\"], [0.3, \"#f1b6da\"], [0.4, \"#fde0ef\"], [0.5, \"#f7f7f7\"], [0.6, \"#e6f5d0\"], [0.7, \"#b8e186\"], [0.8, \"#7fbc41\"], [0.9, \"#4d9221\"], [1, \"#276419\"]], \"sequential\": [[0.0, \"#0d0887\"], [0.1111111111111111, \"#46039f\"], [0.2222222222222222, \"#7201a8\"], [0.3333333333333333, \"#9c179e\"], [0.4444444444444444, \"#bd3786\"], [0.5555555555555556, \"#d8576b\"], [0.6666666666666666, \"#ed7953\"], [0.7777777777777778, \"#fb9f3a\"], [0.8888888888888888, \"#fdca26\"], [1.0, \"#f0f921\"]], \"sequentialminus\": [[0.0, \"#0d0887\"], [0.1111111111111111, \"#46039f\"], [0.2222222222222222, \"#7201a8\"], [0.3333333333333333, \"#9c179e\"], [0.4444444444444444, \"#bd3786\"], [0.5555555555555556, \"#d8576b\"], [0.6666666666666666, \"#ed7953\"], [0.7777777777777778, \"#fb9f3a\"], [0.8888888888888888, \"#fdca26\"], [1.0, \"#f0f921\"]]}, \"colorway\": [\"#636efa\", \"#EF553B\", \"#00cc96\", \"#ab63fa\", \"#FFA15A\", \"#19d3f3\", \"#FF6692\", \"#B6E880\", \"#FF97FF\", \"#FECB52\"], \"font\": {\"color\": \"#2a3f5f\"}, \"geo\": {\"bgcolor\": \"white\", \"lakecolor\": \"white\", \"landcolor\": \"#E5ECF6\", \"showlakes\": true, \"showland\": true, \"subunitcolor\": \"white\"}, \"hoverlabel\": {\"align\": \"left\"}, \"hovermode\": \"closest\", \"mapbox\": {\"style\": \"light\"}, \"paper_bgcolor\": \"white\", \"plot_bgcolor\": \"#E5ECF6\", \"polar\": {\"angularaxis\": {\"gridcolor\": \"white\", \"linecolor\": \"white\", \"ticks\": \"\"}, \"bgcolor\": \"#E5ECF6\", \"radialaxis\": {\"gridcolor\": \"white\", \"linecolor\": \"white\", \"ticks\": \"\"}}, \"scene\": {\"xaxis\": {\"backgroundcolor\": \"#E5ECF6\", \"gridcolor\": \"white\", \"gridwidth\": 2, \"linecolor\": \"white\", \"showbackground\": true, \"ticks\": \"\", \"zerolinecolor\": \"white\"}, \"yaxis\": {\"backgroundcolor\": \"#E5ECF6\", \"gridcolor\": \"white\", \"gridwidth\": 2, \"linecolor\": \"white\", \"showbackground\": true, \"ticks\": \"\", \"zerolinecolor\": \"white\"}, \"zaxis\": {\"backgroundcolor\": \"#E5ECF6\", \"gridcolor\": \"white\", \"gridwidth\": 2, \"linecolor\": \"white\", \"showbackground\": true, \"ticks\": \"\", \"zerolinecolor\": \"white\"}}, \"shapedefaults\": {\"line\": {\"color\": \"#2a3f5f\"}}, \"ternary\": {\"aaxis\": {\"gridcolor\": \"white\", \"linecolor\": \"white\", \"ticks\": \"\"}, \"baxis\": {\"gridcolor\": \"white\", \"linecolor\": \"white\", \"ticks\": \"\"}, \"bgcolor\": \"#E5ECF6\", \"caxis\": {\"gridcolor\": \"white\", \"linecolor\": \"white\", \"ticks\": \"\"}}, \"title\": {\"x\": 0.05}, \"xaxis\": {\"automargin\": true, \"gridcolor\": \"white\", \"linecolor\": \"white\", \"ticks\": \"\", \"title\": {\"standoff\": 15}, \"zerolinecolor\": \"white\", \"zerolinewidth\": 2}, \"yaxis\": {\"automargin\": true, \"gridcolor\": \"white\", \"linecolor\": \"white\", \"ticks\": \"\", \"title\": {\"standoff\": 15}, \"zerolinecolor\": \"white\", \"zerolinewidth\": 2}}}, \"title\": {\"text\": \"World Environment Sustainability-2018\"}},\n",
       "                        {\"responsive\": true}\n",
       "                    ).then(function(){\n",
       "                            \n",
       "var gd = document.getElementById('5d3f5c09-e63b-4e92-a19e-1dce4941716a');\n",
       "var x = new MutationObserver(function (mutations, observer) {{\n",
       "        var display = window.getComputedStyle(gd).display;\n",
       "        if (!display || display === 'none') {{\n",
       "            console.log([gd, 'removed!']);\n",
       "            Plotly.purge(gd);\n",
       "            observer.disconnect();\n",
       "        }}\n",
       "}});\n",
       "\n",
       "// Listen for the removal of the full notebook cells\n",
       "var notebookContainer = gd.closest('#notebook-container');\n",
       "if (notebookContainer) {{\n",
       "    x.observe(notebookContainer, {childList: true});\n",
       "}}\n",
       "\n",
       "// Listen for the clearing of the current output cell\n",
       "var outputEl = gd.closest('.output');\n",
       "if (outputEl) {{\n",
       "    x.observe(outputEl, {childList: true});\n",
       "}}\n",
       "\n",
       "                        })\n",
       "                };\n",
       "                });\n",
       "            </script>\n",
       "        </div>"
      ]
     },
     "metadata": {},
     "output_type": "display_data"
    }
   ],
   "source": [
    "# Data dict\n",
    "data = dict(\n",
    "        type = 'choropleth',\n",
    "        locations = countries['CODE'],\n",
    "        z = 1- countries['Indicator'],\n",
    "        text = countries['Country'], \n",
    "        colorbar = {'title' : 'Environmental Performance'},\n",
    "        colorscale=\"Earth\"\n",
    "      )\n",
    "\n",
    "# Layout\n",
    "layout = dict(\n",
    "    title = 'World Environment Sustainability-2018',\n",
    "    geo = dict(\n",
    "        showframe = False, \n",
    "        projection = {'type':'equirectangular'}\n",
    "    )\n",
    ")\n",
    "\n",
    "#Finally plotting\n",
    "choromap = go.Figure(data = [data],layout = layout)\n",
    "iplot(choromap)"
   ]
  },
  {
   "cell_type": "markdown",
   "metadata": {},
   "source": [
    "### Results"
   ]
  },
  {
   "cell_type": "markdown",
   "metadata": {},
   "source": [
    "As we can see that environmental performance is lowest among countries like India, Pakistan, Nigeria, Yemen, Saudi Arabia, Congo and other African countries. Countries like Canada, US, Brazil, Australia and West Europian countries are perfoming well on the sustainability index. We can compare the results wit the Enviormental Performance Index we see that our model produces similar results.\n",
    "<img src=\"images\\image2.png\">"
   ]
  },
  {
   "cell_type": "code",
   "execution_count": null,
   "metadata": {},
   "outputs": [],
   "source": []
  }
 ],
 "metadata": {
  "kernelspec": {
   "display_name": "Python 3",
   "language": "python",
   "name": "python3"
  },
  "language_info": {
   "codemirror_mode": {
    "name": "ipython",
    "version": 3
   },
   "file_extension": ".py",
   "mimetype": "text/x-python",
   "name": "python",
   "nbconvert_exporter": "python",
   "pygments_lexer": "ipython3",
   "version": "3.7.4"
  }
 },
 "nbformat": 4,
 "nbformat_minor": 2
}
