{
 "cells": [
  {
   "cell_type": "markdown",
   "metadata": {},
   "source": [
    "# Why Environmental Sustainability?"
   ]
  },
  {
   "cell_type": "markdown",
   "metadata": {},
   "source": [
    "Environmental sustainability is concerned with whether environmental resources will be protected and maintained for future generations.Environmental sustainability is concerned with issues such as:\n",
    "* Long-term health of ecosystems. Protecting the long-term productivity and health of resources to meet future economic and social needs, e.g. protecting food supplies, farmland and fishing stocks.\n",
    "* Intergenerational decision making. When making economic decisions, we should focus on implications for future generations, and not just the present moment. For example, burning coal gives a short-term benefit of cheaper energy, but the extra pollution imposes costs on future generations.\n",
    "* Renewable resources: Diversifying into energy sources that do not rely on non-renewable resources. For example, solar and wind power.\n",
    "* Prevent the consequences of man-made global warming. Policies to ensure the environment of the planet does not deteriorate to a point where future generations face water shortages, extreme weather events, excess temperature. – All factors that could make living in parts of the world very difficult if not possible.\n",
    "* Protection of species diversity and ecological structure. Sometimes medicines require elements within specific plant species. If some species go extinct, it limits future technological innovation.\n",
    "* Treating environmental resources as if they have intrinsic rights and value. In other words, we shouldn’t just rely on a monetary value, i.e. we should protect rainforests because they deserve to be protected rather than using a cost-benefit analysis of whether we gain financially from protecting rainforests.\n",
    "* Targetting social welfare/happiness and environmental sustainability above crude measures of progress such as GDP. \n",
    "<img src=\"images\\image1.jpg\">"
   ]
  },
  {
   "cell_type": "markdown",
   "metadata": {},
   "source": [
    "# Human Development Report Data"
   ]
  },
  {
   "cell_type": "markdown",
   "metadata": {},
   "source": [
    "United Nations Development Program publishes Human Development Report that collects data from various sources pertaining to Human Development. It captures various parameters such as <b>'quality of human development'</b>, <b>'gender gap'</b>, <b>'women empowerment'</b>, <b>'environment sustainability'</b> and many more. Please check out the latest report [here](http://report.hdr.undp.org/?utm_source=web&utm_medium=homepage&utm_campaign=hdr19)."
   ]
  },
  {
   "cell_type": "markdown",
   "metadata": {},
   "source": [
    "# Enviormental Performance Index\n",
    "<img src=\"images\\image2.png\">"
   ]
  },
  {
   "cell_type": "markdown",
   "metadata": {},
   "source": [
    "#####  Source - Environmental Performance Index (EPI) designed to supplement the environmental targets set forth in the United Nations Millennium Development Goals."
   ]
  },
  {
   "cell_type": "markdown",
   "metadata": {},
   "source": [
    "The map depicts the environmental performance of the countries on a scale of 0 to 100. We will try to use <b>Unsupervised Deep Learning</b> technique to organise the countries using <b>Human Development Report Data</b> and try to compare the results."
   ]
  },
  {
   "cell_type": "markdown",
   "metadata": {},
   "source": [
    "# Building the CSV file"
   ]
  },
  {
   "cell_type": "markdown",
   "metadata": {},
   "source": [
    "* Step-1: Slicing the relevant data from the 'Human Development Report-2018' and converting it to csv file\n",
    "* Step-2: Adding the pollution index from [here](https://www.numbeo.com/pollution/rankings_by_country.jsp) to the csv file using webscrapping tools in pandas.\n",
    "* Step-3: Adding country code to the csv file that will be used to plot choropleth map using plotly"
   ]
  },
  {
   "cell_type": "markdown",
   "metadata": {},
   "source": [
    "# Unsupervised Deep Learning (Self Organising Maps)"
   ]
  },
  {
   "cell_type": "markdown",
   "metadata": {},
   "source": [
    "A self-organizing map (SOM) is a type of artificial neural network (ANN) that is trained using unsupervised learning to produce a low-dimensional (typically two-dimensional), discretized representation of the input space of the training samples, called a map, and is therefore a method to do dimensionality reduction. Self-organizing maps differ from other artificial neural networks as they apply competitive learning as opposed to error-correction learning (such as backpropagation with gradient descent), and in the sense that they use a neighborhood function to preserve the topological properties of the input space."
   ]
  },
  {
   "cell_type": "markdown",
   "metadata": {},
   "source": [
    "# Actual Model"
   ]
  },
  {
   "cell_type": "markdown",
   "metadata": {},
   "source": [
    "### Step-1: Importing the relevant libraries and data exploration"
   ]
  },
  {
   "cell_type": "code",
   "execution_count": 1,
   "metadata": {},
   "outputs": [
    {
     "data": {
      "text/html": [
       "        <script type=\"text/javascript\">\n",
       "        window.PlotlyConfig = {MathJaxConfig: 'local'};\n",
       "        if (window.MathJax) {MathJax.Hub.Config({SVG: {font: \"STIX-Web\"}});}\n",
       "        if (typeof require !== 'undefined') {\n",
       "        require.undef(\"plotly\");\n",
       "        requirejs.config({\n",
       "            paths: {\n",
       "                'plotly': ['https://cdn.plot.ly/plotly-latest.min']\n",
       "            }\n",
       "        });\n",
       "        require(['plotly'], function(Plotly) {\n",
       "            window._Plotly = Plotly;\n",
       "        });\n",
       "        }\n",
       "        </script>\n",
       "        "
      ]
     },
     "metadata": {},
     "output_type": "display_data"
    },
    {
     "data": {
      "text/html": [
       "        <script type=\"text/javascript\">\n",
       "        window.PlotlyConfig = {MathJaxConfig: 'local'};\n",
       "        if (window.MathJax) {MathJax.Hub.Config({SVG: {font: \"STIX-Web\"}});}\n",
       "        if (typeof require !== 'undefined') {\n",
       "        require.undef(\"plotly\");\n",
       "        requirejs.config({\n",
       "            paths: {\n",
       "                'plotly': ['https://cdn.plot.ly/plotly-latest.min']\n",
       "            }\n",
       "        });\n",
       "        require(['plotly'], function(Plotly) {\n",
       "            window._Plotly = Plotly;\n",
       "        });\n",
       "        }\n",
       "        </script>\n",
       "        "
      ]
     },
     "metadata": {},
     "output_type": "display_data"
    }
   ],
   "source": [
    "import pandas as pd\n",
    "import numpy as np\n",
    "import matplotlib.pyplot as plt\n",
    "import seaborn as sns\n",
    "%matplotlib inline\n",
    "from sklearn.preprocessing import MinMaxScaler\n",
    "from minisom import MiniSom\n",
    "from pylab import bone, pcolor, colorbar, plot, show, rcParams\n",
    "from plotly.offline import download_plotlyjs\n",
    "from plotly.offline import init_notebook_mode\n",
    "from plotly.offline import plot, iplot\n",
    "import cufflinks as cf\n",
    "init_notebook_mode(connected=True)\n",
    "cf.go_offline()\n",
    "import plotly.graph_objs as go"
   ]
  },
  {
   "cell_type": "code",
   "execution_count": 2,
   "metadata": {},
   "outputs": [
    {
     "data": {
      "text/html": [
       "<div>\n",
       "<style scoped>\n",
       "    .dataframe tbody tr th:only-of-type {\n",
       "        vertical-align: middle;\n",
       "    }\n",
       "\n",
       "    .dataframe tbody tr th {\n",
       "        vertical-align: top;\n",
       "    }\n",
       "\n",
       "    .dataframe thead th {\n",
       "        text-align: right;\n",
       "    }\n",
       "</style>\n",
       "<table border=\"1\" class=\"dataframe\">\n",
       "  <thead>\n",
       "    <tr style=\"text-align: right;\">\n",
       "      <th></th>\n",
       "      <th>Country</th>\n",
       "      <th>CODE</th>\n",
       "      <th>Fossil_fuel_usage</th>\n",
       "      <th>Renewable_energy_usage</th>\n",
       "      <th>Per_capita_CO2</th>\n",
       "      <th>Forest_area</th>\n",
       "      <th>change_in_forest_area</th>\n",
       "      <th>fresh_water_withdrawl</th>\n",
       "      <th>natural_resource_reduction</th>\n",
       "      <th>air_pollution_deaths_per_100000</th>\n",
       "      <th>water_related_deaths_per_100000</th>\n",
       "      <th>land_degradation</th>\n",
       "      <th>red_list_index</th>\n",
       "      <th>Pollution Index</th>\n",
       "    </tr>\n",
       "  </thead>\n",
       "  <tbody>\n",
       "    <tr>\n",
       "      <td>0</td>\n",
       "      <td>Norway</td>\n",
       "      <td>NOR</td>\n",
       "      <td>57.0</td>\n",
       "      <td>57.8</td>\n",
       "      <td>6.8</td>\n",
       "      <td>33.2</td>\n",
       "      <td>-0.1</td>\n",
       "      <td>0.8</td>\n",
       "      <td>4.4</td>\n",
       "      <td>9</td>\n",
       "      <td>0.2</td>\n",
       "      <td>..</td>\n",
       "      <td>0.940</td>\n",
       "      <td>20.29</td>\n",
       "    </tr>\n",
       "    <tr>\n",
       "      <td>1</td>\n",
       "      <td>Switzerland</td>\n",
       "      <td>CHE</td>\n",
       "      <td>50.2</td>\n",
       "      <td>25.3</td>\n",
       "      <td>4.5</td>\n",
       "      <td>31.8</td>\n",
       "      <td>9.3</td>\n",
       "      <td>3.8</td>\n",
       "      <td>0.0</td>\n",
       "      <td>10</td>\n",
       "      <td>0.1</td>\n",
       "      <td>..</td>\n",
       "      <td>0.974</td>\n",
       "      <td>21.31</td>\n",
       "    </tr>\n",
       "    <tr>\n",
       "      <td>2</td>\n",
       "      <td>Ireland</td>\n",
       "      <td>IRL</td>\n",
       "      <td>85.3</td>\n",
       "      <td>9.1</td>\n",
       "      <td>7.9</td>\n",
       "      <td>11.0</td>\n",
       "      <td>63.4</td>\n",
       "      <td>1.5</td>\n",
       "      <td>0.1</td>\n",
       "      <td>12</td>\n",
       "      <td>0.1</td>\n",
       "      <td>..</td>\n",
       "      <td>0.925</td>\n",
       "      <td>33.02</td>\n",
       "    </tr>\n",
       "  </tbody>\n",
       "</table>\n",
       "</div>"
      ],
      "text/plain": [
       "       Country CODE Fossil_fuel_usage  Renewable_energy_usage Per_capita_CO2  \\\n",
       "0       Norway  NOR              57.0                    57.8            6.8   \n",
       "1  Switzerland  CHE              50.2                    25.3            4.5   \n",
       "2      Ireland  IRL              85.3                     9.1            7.9   \n",
       "\n",
       "  Forest_area change_in_forest_area fresh_water_withdrawl  \\\n",
       "0        33.2                  -0.1                   0.8   \n",
       "1        31.8                   9.3                   3.8   \n",
       "2        11.0                  63.4                   1.5   \n",
       "\n",
       "  natural_resource_reduction air_pollution_deaths_per_100000  \\\n",
       "0                        4.4                               9   \n",
       "1                        0.0                              10   \n",
       "2                        0.1                              12   \n",
       "\n",
       "  water_related_deaths_per_100000 land_degradation  red_list_index  \\\n",
       "0                             0.2               ..           0.940   \n",
       "1                             0.1               ..           0.974   \n",
       "2                             0.1               ..           0.925   \n",
       "\n",
       "   Pollution Index  \n",
       "0            20.29  \n",
       "1            21.31  \n",
       "2            33.02  "
      ]
     },
     "execution_count": 2,
     "metadata": {},
     "output_type": "execute_result"
    }
   ],
   "source": [
    "#Importing the CSV file\n",
    "hdi = pd.read_csv('hdro.csv')\n",
    "hdi.head(3)"
   ]
  },
  {
   "cell_type": "code",
   "execution_count": 3,
   "metadata": {},
   "outputs": [
    {
     "name": "stdout",
     "output_type": "stream",
     "text": [
      "<class 'pandas.core.frame.DataFrame'>\n",
      "RangeIndex: 190 entries, 0 to 189\n",
      "Data columns (total 14 columns):\n",
      "Country                            190 non-null object\n",
      "CODE                               187 non-null object\n",
      "Fossil_fuel_usage                  190 non-null object\n",
      "Renewable_energy_usage             190 non-null float64\n",
      "Per_capita_CO2                     190 non-null object\n",
      "Forest_area                        190 non-null object\n",
      "change_in_forest_area              190 non-null object\n",
      "fresh_water_withdrawl              190 non-null object\n",
      "natural_resource_reduction         190 non-null object\n",
      "air_pollution_deaths_per_100000    190 non-null object\n",
      "water_related_deaths_per_100000    190 non-null object\n",
      "land_degradation                   190 non-null object\n",
      "red_list_index                     190 non-null float64\n",
      "Pollution Index                    103 non-null float64\n",
      "dtypes: float64(3), object(11)\n",
      "memory usage: 20.9+ KB\n"
     ]
    }
   ],
   "source": [
    "hdi.info()"
   ]
  },
  {
   "cell_type": "markdown",
   "metadata": {},
   "source": [
    "##### There are few problems with our data. Except for Country and CODE columns, all of the other columns should be float. There are missing values in CODE and Pollution Index columns. We will try to fix these problems in Data Cleaning process."
   ]
  },
  {
   "cell_type": "markdown",
   "metadata": {},
   "source": [
    "### Step-2: Data Cleaning"
   ]
  },
  {
   "cell_type": "code",
   "execution_count": 4,
   "metadata": {},
   "outputs": [
    {
     "name": "stderr",
     "output_type": "stream",
     "text": [
      "/Users/ravidahiya/anaconda3/lib/python3.7/site-packages/ipykernel_launcher.py:3: FutureWarning:\n",
      "\n",
      "\n",
      ".ix is deprecated. Please use\n",
      ".loc for label based indexing or\n",
      ".iloc for positional indexing\n",
      "\n",
      "See the documentation here:\n",
      "http://pandas.pydata.org/pandas-docs/stable/user_guide/indexing.html#ix-indexer-is-deprecated\n",
      "\n",
      "/Users/ravidahiya/anaconda3/lib/python3.7/site-packages/pandas/core/ops/__init__.py:1115: FutureWarning:\n",
      "\n",
      "elementwise comparison failed; returning scalar instead, but in the future will perform elementwise comparison\n",
      "\n"
     ]
    }
   ],
   "source": [
    "# Cleaning the columns that have \"..\" in place of null values\n",
    "for i in range(len(hdi.columns)):\n",
    "    hdi.ix[hdi.ix[:,i] == '..', i] = 0\n",
    "    \n",
    "# Converting the datatype of columns to float\n",
    "for column in hdi.columns:\n",
    "    if column not in ['Country', 'CODE'] :\n",
    "        hdi[column] = hdi[column].astype(float)\n",
    "\n",
    "# Assigning zero to null values in columns 'Pollution Index'\n",
    "hdi['Pollution Index'].fillna(0,inplace=True)"
   ]
  },
  {
   "cell_type": "markdown",
   "metadata": {},
   "source": [
    "### Step-3 Data Visualisation"
   ]
  },
  {
   "cell_type": "markdown",
   "metadata": {},
   "source": [
    "As our primary objective is to let the SOMs organise countries on the basis of the data provided. We will not be using advanced plots. However, we will plot barplot of all the parameters against country CODE."
   ]
  },
  {
   "cell_type": "code",
   "execution_count": 5,
   "metadata": {
    "scrolled": false
   },
   "outputs": [
    {
     "data": {
      "image/png": "[encoded data removed]",
      "text/plain": [
       "<Figure size 1008x2160 with 11 Axes>"
      ]
     },
     "metadata": {
      "needs_background": "light"
     },
     "output_type": "display_data"
    }
   ],
   "source": [
    "fig,ax = plt.subplots(11, figsize=(14,30))\n",
    "columns = ['Fossil_fuel_usage', 'Renewable_energy_usage',\n",
    "       'Per_capita_CO2', 'Forest_area', 'fresh_water_withdrawl',\n",
    "       'natural_resource_reduction', 'air_pollution_deaths_per_100000',\n",
    "       'water_related_deaths_per_100000', 'land_degradation', 'red_list_index',\n",
    "       'Pollution Index']\n",
    "for i in range(11):\n",
    "    sns.barplot(x='CODE',y= columns[i], data=hdi.sort_values(columns[i],ascending=False).head(10), ax=ax[i])\n",
    "plt.tight_layout()\n",
    "plt.show()"
   ]
  },
  {
   "cell_type": "markdown",
   "metadata": {},
   "source": [
    "       As we can see from the plots Middle east, African countries and few countries in Asia are not performing \n",
    "       well on the parameters under observation. "
   ]
  },
  {
   "cell_type": "markdown",
   "metadata": {},
   "source": [
    "### Step-4 Building the SOM model"
   ]
  },
  {
   "cell_type": "markdown",
   "metadata": {},
   "source": [
    "We will be using the minisom library developed by ['JustGlowing']('https://github.com/JustGlowing/minisom')"
   ]
  },
  {
   "cell_type": "code",
   "execution_count": 6,
   "metadata": {},
   "outputs": [],
   "source": [
    "# Applying min max scaling to all the columns except Country & CODE \n",
    "sc = MinMaxScaler()\n",
    "X = sc.fit_transform(hdi.drop(['Country', 'CODE'],axis=1))"
   ]
  },
  {
   "cell_type": "code",
   "execution_count": 7,
   "metadata": {},
   "outputs": [],
   "source": [
    "#Building a 2-D matrix\n",
    "som = MiniSom(12,12,X.shape[1])\n",
    "\n",
    "#Assigning random initial weights\n",
    "som.random_weights_init(X)\n",
    "\n",
    "#Training the model with 100 epochs\n",
    "som.train_random(X,100)"
   ]
  },
  {
   "cell_type": "markdown",
   "metadata": {},
   "source": [
    "### Step-5: Visualising the results"
   ]
  },
  {
   "cell_type": "markdown",
   "metadata": {},
   "source": [
    "'SOM' assigns each row to a node seperated by another node by a certain [Euclidean Distance](\"https://en.wikipedia.org/wiki/Euclidean_distance\"). So, we will plot heatmap of the Euclidean Distances to identify similar and dissimilar nodes. Higher the Euclidean Distance, larger is the dissimilarity between two nodes."
   ]
  },
  {
   "cell_type": "code",
   "execution_count": 8,
   "metadata": {},
   "outputs": [
    {
     "data": {
      "image/png": "[encoded data removed]",
      "text/plain": [
       "<Figure size 1152x864 with 2 Axes>"
      ]
     },
     "metadata": {
      "needs_background": "light"
     },
     "output_type": "display_data"
    }
   ],
   "source": [
    "plt.figure(figsize=(16,12))\n",
    "temp_w1 = []\n",
    "temp_w2 = []\n",
    "sns.heatmap(som.distance_map(), cmap='RdBu_r')\n",
    "for i, x in enumerate(X):\n",
    "    w = som.winner(x)\n",
    "    if w not in temp_w1 :\n",
    "        plt.annotate(hdi['CODE'][i],(w[0],w[1]))\n",
    "        temp_w1.append(w)\n",
    "    else:\n",
    "        plt.annotate(hdi['CODE'][i],(w[0]+0.5,w[1]+0.5))\n",
    "    "
   ]
  },
  {
   "cell_type": "markdown",
   "metadata": {},
   "source": [
    "##### As we can see that the countries are classified and allocated a node on the basis of how similar they are. We will now plot these results using choropleth maps to better understand the situation"
   ]
  },
  {
   "cell_type": "code",
   "execution_count": 9,
   "metadata": {},
   "outputs": [],
   "source": [
    "# Extracting the distance map and allocating the score to the country\n",
    "dist_map = som.distance_map()\n",
    "w=[]\n",
    "for x in X:\n",
    "    w.append(som.winner(x))\n",
    "countries = {}\n",
    "for i in range(len(w)):\n",
    "    countries[i] = dist_map[w[i]]\n",
    "countries = pd.DataFrame(data = countries.values(), index= countries.keys(), columns = ['Indicator'])\n",
    "\n",
    "#Creating Dataframe to be used for chropleth map\n",
    "countries = hdi.join(countries)[['Country', 'CODE','Indicator']]"
   ]
  },
  {
   "cell_type": "code",
   "execution_count": 10,
   "metadata": {},
   "outputs": [
    {
     "data": {
      "application/vnd.plotly.v1+json": {
       "config": {
        "linkText": "Export to plot.ly",
        "plotlyServerURL": "https://plot.ly",
        "showLink": false
       },
       "data": [
        {
         "colorbar": {
          "title": {
           "text": "Environmental Performance"
          }
         },
         "locations": [
          "NOR",
          "CHE",
          "IRL",
          "DEU",
          "HKG",
          "AUS",
          "ISL",
          "SWE",
          "SGP",
          "NLD",
          "DNK",
          "FIN",
          "CAN",
          "NZL",
          "GBR",
          "USA",
          "BEL",
          "LIE",
          "JPN",
          "AUT",
          "LUX",
          "ISR",
          "KOR",
          "SVN",
          "ESP",
          "CZE",
          "FRA",
          "MLT",
          "ITA",
          "EST",
          "CYP",
          "GRC",
          "POL",
          "LTU",
          "ARE",
          "AND",
          "SAU",
          "SVK",
          "LVA",
          "PRT",
          "QAT",
          "CHL",
          "BRN",
          "HUN",
          "BHR",
          "HRV",
          "OMN",
          "ARG",
          "RUS",
          "BLR",
          "KAZ",
          "BGR",
          "MNE",
          "ROU",
          "PLW",
          "BRB",
          "KWT",
          "URY",
          "TUR",
          "BHM",
          "MYS",
          "SYC",
          "SRB",
          "TTO",
          "IRN",
          "MUS",
          "PAN",
          "CRI",
          "ALB",
          "GEO",
          "LKA",
          "CUB",
          "KNA",
          "ATG",
          "BIH",
          "MEX",
          "THA",
          "GRD",
          "BRA",
          "COL",
          "ARM",
          "DZA",
          "MKD",
          "PER",
          "CHN",
          "ECU",
          "AZE",
          "UKR",
          "DOM",
          "LCA",
          "TUN",
          "MNG",
          "LBN",
          "BWA",
          "VCT",
          "JAM",
          "VEN",
          "DMA",
          "FJI",
          "PRY",
          "SUR",
          "JOR",
          "BLZ",
          "MDV",
          "TON",
          "PHL",
          "MDA",
          "TKM",
          "UZB",
          "LBY",
          "IDN",
          "WSM",
          "ZAF",
          "BOL",
          "GAB",
          "EGY",
          "MHL",
          "VNM",
          null,
          "IRQ",
          "MAR",
          "KGZ",
          "GUY",
          "SLV",
          "TJK",
          "CPV",
          "GTM",
          "NIC",
          "IND",
          "NAM",
          "TLS",
          "HND",
          "KIR",
          "BTN",
          "BGD",
          "FSM",
          "STP",
          "COG",
          null,
          "LAO",
          "VUT",
          "GHA",
          "ZMB",
          "GNQ",
          null,
          "KHM",
          "KEN",
          "NPL",
          "AGO",
          "CMR",
          "ZWE",
          "PAK",
          "SLB",
          "SYR",
          "PNG",
          "COM",
          "RWA",
          "NGA",
          "TZA",
          "UGA",
          "MRT",
          "MDG",
          "BEN",
          "LSO",
          "CIV",
          "SEN",
          "TGO",
          "SDN",
          "HTI",
          "AFG",
          "DJI",
          "MWI",
          "ETH",
          "GMB",
          "GIN",
          "LBR",
          "YEM",
          "GNB",
          "COD",
          "MOZ",
          "SLE",
          "BFA",
          "ERI",
          "MLI",
          "BDI",
          "SSD",
          "TCD",
          "CAF",
          "NER",
          "PRK"
         ],
         "text": [
          "Norway",
          "Switzerland",
          "Ireland",
          "Germany",
          "Hong Kong",
          "Australia",
          "Iceland",
          "Sweden",
          "Singapore",
          "Netherlands",
          "Denmark",
          "Finland",
          "Canada",
          "New Zealand",
          "United Kingdom",
          "United States",
          "Belgium",
          "Liechtenstein",
          "Japan",
          "Austria",
          "Luxembourg",
          "Israel",
          "Korea, South",
          "Slovenia",
          "Spain",
          "Czech Republic",
          "France",
          "Malta",
          "Italy",
          "Estonia",
          "Cyprus",
          "Greece",
          "Poland",
          "Lithuania",
          "United Arab Emirates",
          "Andorra",
          "Saudi Arabia",
          "Slovakia",
          "Latvia",
          "Portugal",
          "Qatar",
          "Chile",
          "Brunei",
          "Hungary",
          "Bahrain",
          "Croatia",
          "Oman",
          "Argentina",
          "Russia",
          "Belarus",
          "Kazakhstan",
          "Bulgaria",
          "Montenegro",
          "Romania",
          "Palau",
          "Barbados",
          "Kuwait",
          "Uruguay",
          "Turkey",
          "Bahamas, The",
          "Malaysia",
          "Seychelles",
          "Serbia",
          "Trinidad and Tobago",
          "Iran",
          "Mauritius",
          "Panama",
          "Costa Rica",
          "Albania",
          "Georgia",
          "Sri Lanka",
          "Cuba",
          "Saint Kitts and Nevis",
          "Antigua and Barbuda",
          "Bosnia and Herzegovina",
          "Mexico",
          "Thailand",
          "Grenada",
          "Brazil",
          "Colombia",
          "Armenia",
          "Algeria",
          "Macedonia",
          "Peru",
          "China",
          "Ecuador",
          "Azerbaijan",
          "Ukraine",
          "Dominican Republic",
          "Saint Lucia",
          "Tunisia",
          "Mongolia",
          "Lebanon",
          "Botswana",
          "Saint Vincent and the Grenadines",
          "Jamaica",
          "Venezuela",
          "Dominica",
          "Fiji",
          "Paraguay",
          "Suriname",
          "Jordan",
          "Belize",
          "Maldives",
          "Tonga",
          "Philippines",
          "Moldova",
          "Turkmenistan",
          "Uzbekistan",
          "Libya",
          "Indonesia",
          "Samoa",
          "South Africa",
          "Bolivia",
          "Gabon",
          "Egypt",
          "Marshall Islands",
          "Vietnam",
          "Palestine, State of",
          "Iraq",
          "Morocco",
          "Kyrgyzstan",
          "Guyana",
          "El Salvador",
          "Tajikistan",
          "Cabo Verde",
          "Guatemala",
          "Nicaragua",
          "India",
          "Namibia",
          "Timor-Leste",
          "Honduras",
          "Kiribati",
          "Bhutan",
          "Bangladesh",
          "Micronesia, Federated States of",
          "Sao Tome and Principe",
          "Congo, Republic of the",
          "Eswatini (Kingdom of)",
          "Laos",
          "Vanuatu",
          "Ghana",
          "Zambia",
          "Equatorial Guinea",
          "Myanmar",
          "Cambodia",
          "Kenya",
          "Nepal",
          "Angola",
          "Cameroon",
          "Zimbabwe",
          "Pakistan",
          "Solomon Islands",
          "Syria",
          "Papua New Guinea",
          "Comoros",
          "Rwanda",
          "Nigeria",
          "Tanzania",
          "Uganda",
          "Mauritania",
          "Madagascar",
          "Benin",
          "Lesotho",
          "Cote d'Ivoire",
          "Senegal",
          "Togo",
          "Sudan",
          "Haiti",
          "Afghanistan",
          "Djibouti",
          "Malawi",
          "Ethiopia",
          "Gambia, The",
          "Guinea",
          "Liberia",
          "Yemen",
          "Guinea-Bissau",
          "Congo, Democratic Republic of the",
          "Mozambique",
          "Sierra Leone",
          "Burkina Faso",
          "Eritrea",
          "Mali",
          "Burundi",
          "South Sudan",
          "Chad",
          "Central African Republic",
          "Niger",
          "Korea, North"
         ],
         "type": "choropleth",
         "z": [
          0.5418642630038758,
          0.6537419624164817,
          0.6470070325772013,
          0.74648304318751,
          0.4829144550453085,
          0.497873968672057,
          0.4417217122294499,
          0.73102514253123,
          0.6470070325772013,
          0.6470070325772013,
          0.513276373892853,
          0.712928669445233,
          0.74648304318751,
          0.5180036644263006,
          0.5290095044291636,
          0.497873968672057,
          0.7504663871951434,
          0.73102514253123,
          0.6629204442894686,
          0.513276373892853,
          0.74648304318751,
          0.5180328623794778,
          0.43266727461220955,
          0.6537419624164817,
          0.7949192525191471,
          0.7504663871951434,
          0.4954049618737999,
          0.4829144550453085,
          0.5918832204788146,
          0.712928669445233,
          0.44739126921577677,
          0.7949192525191471,
          0.5918832204788146,
          0.513276373892853,
          0.34560870779561115,
          0.4877645802118573,
          0.17912366490001885,
          0.7912560239481929,
          0.712928669445233,
          0.6630892314884671,
          0.34560870779561115,
          0.6102031497962286,
          0.43266727461220955,
          0.41592787961541344,
          0.34560870779561115,
          0.513276373892853,
          0.5187908410646774,
          0.6612602949162761,
          0.5953549122756803,
          0.5918832204788146,
          0.38036999703193375,
          0.6104258044127451,
          0.5423001151854441,
          0.8183010981533201,
          0.6816162932966092,
          0.4877645802118573,
          0.29555054236870204,
          0.4417217122294499,
          0.4829144550453085,
          0.7484115709957668,
          0.6120890219028219,
          0.6816162932966092,
          0.6104258044127451,
          0.43266727461220955,
          0.4829144550453085,
          0.4665453207833191,
          0.6120890219028219,
          0.5423001151854441,
          0.7901112317778464,
          0.7901112317778464,
          0.5457363119039661,
          0.5180036644263006,
          0.7484115709957668,
          0.4877645802118573,
          0.8105497127268131,
          0.4665453207833191,
          0.7788505206838906,
          0.7484115709957668,
          0.5423001151854441,
          0.6120890219028219,
          0.5051417225119085,
          0.4829144550453085,
          0.7901112317778464,
          0.45570578547877283,
          0.46999059356795714,
          0.4665453207833191,
          0.4829144550453085,
          0.44739126921577677,
          0.45570578547877283,
          0.7484115709957668,
          0.4829144550453085,
          0.38036999703193375,
          0.4829144550453085,
          0.43483537989976917,
          0.6816162932966092,
          0.45570578547877283,
          0.6120890219028219,
          0.7484115709957668,
          0.6816162932966092,
          0.5827043266282845,
          0.25128255075605743,
          0.4829144550453085,
          0.35654253463730035,
          0.4877645802118573,
          0.4877645802118573,
          0.5457363119039661,
          0.5204522034350632,
          0.40415015735889315,
          0.33551168861114467,
          0.17912366490001885,
          0.6273176971744284,
          0.6816162932966092,
          0.4418536193534637,
          0.4471878451638245,
          0.73102514253123,
          0.4829144550453085,
          0.6816162932966092,
          0.45570578547877283,
          0.4877645802118573,
          0.38036999703193375,
          0.4829144550453085,
          0.43483537989976917,
          0.6816162932966092,
          0.6251313679351497,
          0.47783025329341866,
          0.4877645802118573,
          0,
          0.623769026361561,
          0.5457363119039661,
          0.43483537989976917,
          0.41981164883232025,
          0.6251313679351497,
          0.4877645802118573,
          0.73102514253123,
          0.5457363119039661,
          0.6816162932966092,
          0.09991804550633143,
          0.41981164883232025,
          0.5334505026814891,
          0.73102514253123,
          0.4877645802118573,
          0.4988411776046907,
          0.73102514253123,
          0.6816162932966092,
          0,
          0,
          0.4988411776046907,
          0.4988411776046907,
          0.41981164883232025,
          0.31458630633867746,
          0,
          0.4988411776046907,
          0.73102514253123,
          0.4829144550453085,
          0.73102514253123,
          0.31458630633867746,
          0.5334505026814891,
          0.4988411776046907,
          0.2144968620343809,
          0.31458630633867746,
          0.31458630633867746,
          0.5334505026814891,
          0.47783025329341866,
          0.31458630633867746,
          0.31458630633867746,
          0.623769026361561,
          0.31458630633867746,
          0.31458630633867746,
          0.5334505026814891,
          0.4988411776046907,
          0.4877645802118573,
          0.5334505026814891,
          0.4988411776046907,
          0.31458630633867746,
          0.31458630633867746,
          0.31458630633867746,
          0.33551168861114467,
          0.31458630633867746,
          0.31458630633867746,
          0.73102514253123,
          0.31458630633867746,
          0.31458630633867746,
          0.31458630633867746,
          0.31458630633867746,
          0.31458630633867746,
          0.31458630633867746,
          0.31458630633867746,
          0.31458630633867746,
          0.31458630633867746,
          0.09991804550633143
         ]
        }
       ],
       "layout": {
        "geo": {
         "projection": {
          "type": "equirectangular"
         },
         "showframe": false
        },
        "template": {
         "data": {
          "bar": [
           {
            "error_x": {
             "color": "#2a3f5f"
            },
            "error_y": {
             "color": "#2a3f5f"
            },
            "marker": {
             "line": {
              "color": "#E5ECF6",
              "width": 0.5
             }
            },
            "type": "bar"
           }
          ],
          "barpolar": [
           {
            "marker": {
             "line": {
              "color": "#E5ECF6",
              "width": 0.5
             }
            },
            "type": "barpolar"
           }
          ],
          "carpet": [
           {
            "aaxis": {
             "endlinecolor": "#2a3f5f",
             "gridcolor": "white",
             "linecolor": "white",
             "minorgridcolor": "white",
             "startlinecolor": "#2a3f5f"
            },
            "baxis": {
             "endlinecolor": "#2a3f5f",
             "gridcolor": "white",
             "linecolor": "white",
             "minorgridcolor": "white",
             "startlinecolor": "#2a3f5f"
            },
            "type": "carpet"
           }
          ],
          "choropleth": [
           {
            "colorbar": {
             "outlinewidth": 0,
             "ticks": ""
            },
            "type": "choropleth"
           }
          ],
          "contour": [
           {
            "colorbar": {
             "outlinewidth": 0,
             "ticks": ""
            },
            "colorscale": [
             [
              0,
              "#0d0887"
             ],
             [
              0.1111111111111111,
              "#46039f"
             ],
             [
              0.2222222222222222,
              "#7201a8"
             ],
             [
              0.3333333333333333,
              "#9c179e"
             ],
             [
              0.4444444444444444,
              "#bd3786"
             ],
             [
              0.5555555555555556,
              "#d8576b"
             ],
             [
              0.6666666666666666,
              "#ed7953"
             ],
             [
              0.7777777777777778,
              "#fb9f3a"
             ],
             [
              0.8888888888888888,
              "#fdca26"
             ],
             [
              1,
              "#f0f921"
             ]
            ],
            "type": "contour"
           }
          ],
          "contourcarpet": [
           {
            "colorbar": {
             "outlinewidth": 0,
             "ticks": ""
            },
            "type": "contourcarpet"
           }
          ],
          "heatmap": [
           {
            "colorbar": {
             "outlinewidth": 0,
             "ticks": ""
            },
            "colorscale": [
             [
              0,
              "#0d0887"
             ],
             [
              0.1111111111111111,
              "#46039f"
             ],
             [
              0.2222222222222222,
              "#7201a8"
             ],
             [
              0.3333333333333333,
              "#9c179e"
             ],
             [
              0.4444444444444444,
              "#bd3786"
             ],
             [
              0.5555555555555556,
              "#d8576b"
             ],
             [
              0.6666666666666666,
              "#ed7953"
             ],
             [
              0.7777777777777778,
              "#fb9f3a"
             ],
             [
              0.8888888888888888,
              "#fdca26"
             ],
             [
              1,
              "#f0f921"
             ]
            ],
            "type": "heatmap"
           }
          ],
          "heatmapgl": [
           {
            "colorbar": {
             "outlinewidth": 0,
             "ticks": ""
            },
            "colorscale": [
             [
              0,
              "#0d0887"
             ],
             [
              0.1111111111111111,
              "#46039f"
             ],
             [
              0.2222222222222222,
              "#7201a8"
             ],
             [
              0.3333333333333333,
              "#9c179e"
             ],
             [
              0.4444444444444444,
              "#bd3786"
             ],
             [
              0.5555555555555556,
              "#d8576b"
             ],
             [
              0.6666666666666666,
              "#ed7953"
             ],
             [
              0.7777777777777778,
              "#fb9f3a"
             ],
             [
              0.8888888888888888,
              "#fdca26"
             ],
             [
              1,
              "#f0f921"
             ]
            ],
            "type": "heatmapgl"
           }
          ],
          "histogram": [
           {
            "marker": {
             "colorbar": {
              "outlinewidth": 0,
              "ticks": ""
             }
            },
            "type": "histogram"
           }
          ],
          "histogram2d": [
           {
            "colorbar": {
             "outlinewidth": 0,
             "ticks": ""
            },
            "colorscale": [
             [
              0,
              "#0d0887"
             ],
             [
              0.1111111111111111,
              "#46039f"
             ],
             [
              0.2222222222222222,
              "#7201a8"
             ],
             [
              0.3333333333333333,
              "#9c179e"
             ],
             [
              0.4444444444444444,
              "#bd3786"
             ],
             [
              0.5555555555555556,
              "#d8576b"
             ],
             [
              0.6666666666666666,
              "#ed7953"
             ],
             [
              0.7777777777777778,
              "#fb9f3a"
             ],
             [
              0.8888888888888888,
              "#fdca26"
             ],
             [
              1,
              "#f0f921"
             ]
            ],
            "type": "histogram2d"
           }
          ],
          "histogram2dcontour": [
           {
            "colorbar": {
             "outlinewidth": 0,
             "ticks": ""
            },
            "colorscale": [
             [
              0,
              "#0d0887"
             ],
             [
              0.1111111111111111,
              "#46039f"
             ],
             [
              0.2222222222222222,
              "#7201a8"
             ],
             [
              0.3333333333333333,
              "#9c179e"
             ],
             [
              0.4444444444444444,
              "#bd3786"
             ],
             [
              0.5555555555555556,
              "#d8576b"
             ],
             [
              0.6666666666666666,
              "#ed7953"
             ],
             [
              0.7777777777777778,
              "#fb9f3a"
             ],
             [
              0.8888888888888888,
              "#fdca26"
             ],
             [
              1,
              "#f0f921"
             ]
            ],
            "type": "histogram2dcontour"
           }
          ],
          "mesh3d": [
           {
            "colorbar": {
             "outlinewidth": 0,
             "ticks": ""
            },
            "type": "mesh3d"
           }
          ],
          "parcoords": [
           {
            "line": {
             "colorbar": {
              "outlinewidth": 0,
              "ticks": ""
             }
            },
            "type": "parcoords"
           }
          ],
          "pie": [
           {
            "automargin": true,
            "type": "pie"
           }
          ],
          "scatter": [
           {
            "marker": {
             "colorbar": {
              "outlinewidth": 0,
              "ticks": ""
             }
            },
            "type": "scatter"
           }
          ],
          "scatter3d": [
           {
            "line": {
             "colorbar": {
              "outlinewidth": 0,
              "ticks": ""
             }
            },
            "marker": {
             "colorbar": {
              "outlinewidth": 0,
              "ticks": ""
             }
            },
            "type": "scatter3d"
           }
          ],
          "scattercarpet": [
           {
            "marker": {
             "colorbar": {
              "outlinewidth": 0,
              "ticks": ""
             }
            },
            "type": "scattercarpet"
           }
          ],
          "scattergeo": [
           {
            "marker": {
             "colorbar": {
              "outlinewidth": 0,
              "ticks": ""
             }
            },
            "type": "scattergeo"
           }
          ],
          "scattergl": [
           {
            "marker": {
             "colorbar": {
              "outlinewidth": 0,
              "ticks": ""
             }
            },
            "type": "scattergl"
           }
          ],
          "scattermapbox": [
           {
            "marker": {
             "colorbar": {
              "outlinewidth": 0,
              "ticks": ""
             }
            },
            "type": "scattermapbox"
           }
          ],
          "scatterpolar": [
           {
            "marker": {
             "colorbar": {
              "outlinewidth": 0,
              "ticks": ""
             }
            },
            "type": "scatterpolar"
           }
          ],
          "scatterpolargl": [
           {
            "marker": {
             "colorbar": {
              "outlinewidth": 0,
              "ticks": ""
             }
            },
            "type": "scatterpolargl"
           }
          ],
          "scatterternary": [
           {
            "marker": {
             "colorbar": {
              "outlinewidth": 0,
              "ticks": ""
             }
            },
            "type": "scatterternary"
           }
          ],
          "surface": [
           {
            "colorbar": {
             "outlinewidth": 0,
             "ticks": ""
            },
            "colorscale": [
             [
              0,
              "#0d0887"
             ],
             [
              0.1111111111111111,
              "#46039f"
             ],
             [
              0.2222222222222222,
              "#7201a8"
             ],
             [
              0.3333333333333333,
              "#9c179e"
             ],
             [
              0.4444444444444444,
              "#bd3786"
             ],
             [
              0.5555555555555556,
              "#d8576b"
             ],
             [
              0.6666666666666666,
              "#ed7953"
             ],
             [
              0.7777777777777778,
              "#fb9f3a"
             ],
             [
              0.8888888888888888,
              "#fdca26"
             ],
             [
              1,
              "#f0f921"
             ]
            ],
            "type": "surface"
           }
          ],
          "table": [
           {
            "cells": {
             "fill": {
              "color": "#EBF0F8"
             },
             "line": {
              "color": "white"
             }
            },
            "header": {
             "fill": {
              "color": "#C8D4E3"
             },
             "line": {
              "color": "white"
             }
            },
            "type": "table"
           }
          ]
         },
         "layout": {
          "annotationdefaults": {
           "arrowcolor": "#2a3f5f",
           "arrowhead": 0,
           "arrowwidth": 1
          },
          "coloraxis": {
           "colorbar": {
            "outlinewidth": 0,
            "ticks": ""
           }
          },
          "colorscale": {
           "diverging": [
            [
             0,
             "#8e0152"
            ],
            [
             0.1,
             "#c51b7d"
            ],
            [
             0.2,
             "#de77ae"
            ],
            [
             0.3,
             "#f1b6da"
            ],
            [
             0.4,
             "#fde0ef"
            ],
            [
             0.5,
             "#f7f7f7"
            ],
            [
             0.6,
             "#e6f5d0"
            ],
            [
             0.7,
             "#b8e186"
            ],
            [
             0.8,
             "#7fbc41"
            ],
            [
             0.9,
             "#4d9221"
            ],
            [
             1,
             "#276419"
            ]
           ],
           "sequential": [
            [
             0,
             "#0d0887"
            ],
            [
             0.1111111111111111,
             "#46039f"
            ],
            [
             0.2222222222222222,
             "#7201a8"
            ],
            [
             0.3333333333333333,
             "#9c179e"
            ],
            [
             0.4444444444444444,
             "#bd3786"
            ],
            [
             0.5555555555555556,
             "#d8576b"
            ],
            [
             0.6666666666666666,
             "#ed7953"
            ],
            [
             0.7777777777777778,
             "#fb9f3a"
            ],
            [
             0.8888888888888888,
             "#fdca26"
            ],
            [
             1,
             "#f0f921"
            ]
           ],
           "sequentialminus": [
            [
             0,
             "#0d0887"
            ],
            [
             0.1111111111111111,
             "#46039f"
            ],
            [
             0.2222222222222222,
             "#7201a8"
            ],
            [
             0.3333333333333333,
             "#9c179e"
            ],
            [
             0.4444444444444444,
             "#bd3786"
            ],
            [
             0.5555555555555556,
             "#d8576b"
            ],
            [
             0.6666666666666666,
             "#ed7953"
            ],
            [
             0.7777777777777778,
             "#fb9f3a"
            ],
            [
             0.8888888888888888,
             "#fdca26"
            ],
            [
             1,
             "#f0f921"
            ]
           ]
          },
          "colorway": [
           "#636efa",
           "#EF553B",
           "#00cc96",
           "#ab63fa",
           "#FFA15A",
           "#19d3f3",
           "#FF6692",
           "#B6E880",
           "#FF97FF",
           "#FECB52"
          ],
          "font": {
           "color": "#2a3f5f"
          },
          "geo": {
           "bgcolor": "white",
           "lakecolor": "white",
           "landcolor": "#E5ECF6",
           "showlakes": true,
           "showland": true,
           "subunitcolor": "white"
          },
          "hoverlabel": {
           "align": "left"
          },
          "hovermode": "closest",
          "mapbox": {
           "style": "light"
          },
          "paper_bgcolor": "white",
          "plot_bgcolor": "#E5ECF6",
          "polar": {
           "angularaxis": {
            "gridcolor": "white",
            "linecolor": "white",
            "ticks": ""
           },
           "bgcolor": "#E5ECF6",
           "radialaxis": {
            "gridcolor": "white",
            "linecolor": "white",
            "ticks": ""
           }
          },
          "scene": {
           "xaxis": {
            "backgroundcolor": "#E5ECF6",
            "gridcolor": "white",
            "gridwidth": 2,
            "linecolor": "white",
            "showbackground": true,
            "ticks": "",
            "zerolinecolor": "white"
           },
           "yaxis": {
            "backgroundcolor": "#E5ECF6",
            "gridcolor": "white",
            "gridwidth": 2,
            "linecolor": "white",
            "showbackground": true,
            "ticks": "",
            "zerolinecolor": "white"
           },
           "zaxis": {
            "backgroundcolor": "#E5ECF6",
            "gridcolor": "white",
            "gridwidth": 2,
            "linecolor": "white",
            "showbackground": true,
            "ticks": "",
            "zerolinecolor": "white"
           }
          },
          "shapedefaults": {
           "line": {
            "color": "#2a3f5f"
           }
          },
          "ternary": {
           "aaxis": {
            "gridcolor": "white",
            "linecolor": "white",
            "ticks": ""
           },
           "baxis": {
            "gridcolor": "white",
            "linecolor": "white",
            "ticks": ""
           },
           "bgcolor": "#E5ECF6",
           "caxis": {
            "gridcolor": "white",
            "linecolor": "white",
            "ticks": ""
           }
          },
          "title": {
           "x": 0.05
          },
          "xaxis": {
           "automargin": true,
           "gridcolor": "white",
           "linecolor": "white",
           "ticks": "",
           "title": {
            "standoff": 15
           },
           "zerolinecolor": "white",
           "zerolinewidth": 2
          },
          "yaxis": {
           "automargin": true,
           "gridcolor": "white",
           "linecolor": "white",
           "ticks": "",
           "title": {
            "standoff": 15
           },
           "zerolinecolor": "white",
           "zerolinewidth": 2
          }
         }
        },
        "title": {
         "text": "World Environment Sustainability-2018"
        }
       }
      },
      "text/html": [
       "<div>\n",
       "        \n",
       "        \n",
       "            <div id=\"04e80c7d-1ab3-4d53-9a28-5333663604c2\" class=\"plotly-graph-div\" style=\"height:525px; width:100%;\"></div>\n",
       "            <script type=\"text/javascript\">\n",
       "                require([\"plotly\"], function(Plotly) {\n",
       "                    window.PLOTLYENV=window.PLOTLYENV || {};\n",
       "                    \n",
       "                if (document.getElementById(\"04e80c7d-1ab3-4d53-9a28-5333663604c2\")) {\n",
       "                    Plotly.newPlot(\n",
       "                        '04e80c7d-1ab3-4d53-9a28-5333663604c2',\n",
       "                        [{\"colorbar\": {\"title\": {\"text\": \"Environmental Performance\"}}, \"locations\": [\"NOR\", \"CHE\", \"IRL\", \"DEU\", \"HKG\", \"AUS\", \"ISL\", \"SWE\", \"SGP\", \"NLD\", \"DNK\", \"FIN\", \"CAN\", \"NZL\", \"GBR\", \"USA\", \"BEL\", \"LIE\", \"JPN\", \"AUT\", \"LUX\", \"ISR\", \"KOR\", \"SVN\", \"ESP\", \"CZE\", \"FRA\", \"MLT\", \"ITA\", \"EST\", \"CYP\", \"GRC\", \"POL\", \"LTU\", \"ARE\", \"AND\", \"SAU\", \"SVK\", \"LVA\", \"PRT\", \"QAT\", \"CHL\", \"BRN\", \"HUN\", \"BHR\", \"HRV\", \"OMN\", \"ARG\", \"RUS\", \"BLR\", \"KAZ\", \"BGR\", \"MNE\", \"ROU\", \"PLW\", \"BRB\", \"KWT\", \"URY\", \"TUR\", \"BHM\", \"MYS\", \"SYC\", \"SRB\", \"TTO\", \"IRN\", \"MUS\", \"PAN\", \"CRI\", \"ALB\", \"GEO\", \"LKA\", \"CUB\", \"KNA\", \"ATG\", \"BIH\", \"MEX\", \"THA\", \"GRD\", \"BRA\", \"COL\", \"ARM\", \"DZA\", \"MKD\", \"PER\", \"CHN\", \"ECU\", \"AZE\", \"UKR\", \"DOM\", \"LCA\", \"TUN\", \"MNG\", \"LBN\", \"BWA\", \"VCT\", \"JAM\", \"VEN\", \"DMA\", \"FJI\", \"PRY\", \"SUR\", \"JOR\", \"BLZ\", \"MDV\", \"TON\", \"PHL\", \"MDA\", \"TKM\", \"UZB\", \"LBY\", \"IDN\", \"WSM\", \"ZAF\", \"BOL\", \"GAB\", \"EGY\", \"MHL\", \"VNM\", null, \"IRQ\", \"MAR\", \"KGZ\", \"GUY\", \"SLV\", \"TJK\", \"CPV\", \"GTM\", \"NIC\", \"IND\", \"NAM\", \"TLS\", \"HND\", \"KIR\", \"BTN\", \"BGD\", \"FSM\", \"STP\", \"COG\", null, \"LAO\", \"VUT\", \"GHA\", \"ZMB\", \"GNQ\", null, \"KHM\", \"KEN\", \"NPL\", \"AGO\", \"CMR\", \"ZWE\", \"PAK\", \"SLB\", \"SYR\", \"PNG\", \"COM\", \"RWA\", \"NGA\", \"TZA\", \"UGA\", \"MRT\", \"MDG\", \"BEN\", \"LSO\", \"CIV\", \"SEN\", \"TGO\", \"SDN\", \"HTI\", \"AFG\", \"DJI\", \"MWI\", \"ETH\", \"GMB\", \"GIN\", \"LBR\", \"YEM\", \"GNB\", \"COD\", \"MOZ\", \"SLE\", \"BFA\", \"ERI\", \"MLI\", \"BDI\", \"SSD\", \"TCD\", \"CAF\", \"NER\", \"PRK\"], \"text\": [\"Norway\", \"Switzerland\", \"Ireland\", \"Germany\", \"Hong Kong\", \"Australia\", \"Iceland\", \"Sweden\", \"Singapore\", \"Netherlands\", \"Denmark\", \"Finland\", \"Canada\", \"New Zealand\", \"United Kingdom\", \"United States\", \"Belgium\", \"Liechtenstein\", \"Japan\", \"Austria\", \"Luxembourg\", \"Israel\", \"Korea, South\", \"Slovenia\", \"Spain\", \"Czech Republic\", \"France\", \"Malta\", \"Italy\", \"Estonia\", \"Cyprus\", \"Greece\", \"Poland\", \"Lithuania\", \"United Arab Emirates\", \"Andorra\", \"Saudi Arabia\", \"Slovakia\", \"Latvia\", \"Portugal\", \"Qatar\", \"Chile\", \"Brunei\", \"Hungary\", \"Bahrain\", \"Croatia\", \"Oman\", \"Argentina\", \"Russia\", \"Belarus\", \"Kazakhstan\", \"Bulgaria\", \"Montenegro\", \"Romania\", \"Palau\", \"Barbados\", \"Kuwait\", \"Uruguay\", \"Turkey\", \"Bahamas, The\", \"Malaysia\", \"Seychelles\", \"Serbia\", \"Trinidad and Tobago\", \"Iran\", \"Mauritius\", \"Panama\", \"Costa Rica\", \"Albania\", \"Georgia\", \"Sri Lanka\", \"Cuba\", \"Saint Kitts and Nevis\", \"Antigua and Barbuda\", \"Bosnia and Herzegovina\", \"Mexico\", \"Thailand\", \"Grenada\", \"Brazil\", \"Colombia\", \"Armenia\", \"Algeria\", \"Macedonia\", \"Peru\", \"China\", \"Ecuador\", \"Azerbaijan\", \"Ukraine\", \"Dominican Republic\", \"Saint Lucia\", \"Tunisia\", \"Mongolia\", \"Lebanon\", \"Botswana\", \"Saint Vincent and the Grenadines\", \"Jamaica\", \"Venezuela\", \"Dominica\", \"Fiji\", \"Paraguay\", \"Suriname\", \"Jordan\", \"Belize\", \"Maldives\", \"Tonga\", \"Philippines\", \"Moldova\", \"Turkmenistan\", \"Uzbekistan\", \"Libya\", \"Indonesia\", \"Samoa\", \"South Africa\", \"Bolivia\", \"Gabon\", \"Egypt\", \"Marshall Islands\", \"Vietnam\", \"Palestine, State of\", \"Iraq\", \"Morocco\", \"Kyrgyzstan\", \"Guyana\", \"El Salvador\", \"Tajikistan\", \"Cabo Verde\", \"Guatemala\", \"Nicaragua\", \"India\", \"Namibia\", \"Timor-Leste\", \"Honduras\", \"Kiribati\", \"Bhutan\", \"Bangladesh\", \"Micronesia, Federated States of\", \"Sao Tome and Principe\", \"Congo, Republic of the\", \"Eswatini (Kingdom of)\", \"Laos\", \"Vanuatu\", \"Ghana\", \"Zambia\", \"Equatorial Guinea\", \"Myanmar\", \"Cambodia\", \"Kenya\", \"Nepal\", \"Angola\", \"Cameroon\", \"Zimbabwe\", \"Pakistan\", \"Solomon Islands\", \"Syria\", \"Papua New Guinea\", \"Comoros\", \"Rwanda\", \"Nigeria\", \"Tanzania\", \"Uganda\", \"Mauritania\", \"Madagascar\", \"Benin\", \"Lesotho\", \"Cote d'Ivoire\", \"Senegal\", \"Togo\", \"Sudan\", \"Haiti\", \"Afghanistan\", \"Djibouti\", \"Malawi\", \"Ethiopia\", \"Gambia, The\", \"Guinea\", \"Liberia\", \"Yemen\", \"Guinea-Bissau\", \"Congo, Democratic Republic of the\", \"Mozambique\", \"Sierra Leone\", \"Burkina Faso\", \"Eritrea\", \"Mali\", \"Burundi\", \"South Sudan\", \"Chad\", \"Central African Republic\", \"Niger\", \"Korea, North\"], \"type\": \"choropleth\", \"z\": [0.5418642630038758, 0.6537419624164817, 0.6470070325772013, 0.74648304318751, 0.4829144550453085, 0.497873968672057, 0.4417217122294499, 0.73102514253123, 0.6470070325772013, 0.6470070325772013, 0.513276373892853, 0.712928669445233, 0.74648304318751, 0.5180036644263006, 0.5290095044291636, 0.497873968672057, 0.7504663871951434, 0.73102514253123, 0.6629204442894686, 0.513276373892853, 0.74648304318751, 0.5180328623794778, 0.43266727461220955, 0.6537419624164817, 0.7949192525191471, 0.7504663871951434, 0.4954049618737999, 0.4829144550453085, 0.5918832204788146, 0.712928669445233, 0.44739126921577677, 0.7949192525191471, 0.5918832204788146, 0.513276373892853, 0.34560870779561115, 0.4877645802118573, 0.17912366490001885, 0.7912560239481929, 0.712928669445233, 0.6630892314884671, 0.34560870779561115, 0.6102031497962286, 0.43266727461220955, 0.41592787961541344, 0.34560870779561115, 0.513276373892853, 0.5187908410646774, 0.6612602949162761, 0.5953549122756803, 0.5918832204788146, 0.38036999703193375, 0.6104258044127451, 0.5423001151854441, 0.8183010981533201, 0.6816162932966092, 0.4877645802118573, 0.29555054236870204, 0.4417217122294499, 0.4829144550453085, 0.7484115709957668, 0.6120890219028219, 0.6816162932966092, 0.6104258044127451, 0.43266727461220955, 0.4829144550453085, 0.4665453207833191, 0.6120890219028219, 0.5423001151854441, 0.7901112317778464, 0.7901112317778464, 0.5457363119039661, 0.5180036644263006, 0.7484115709957668, 0.4877645802118573, 0.8105497127268131, 0.4665453207833191, 0.7788505206838906, 0.7484115709957668, 0.5423001151854441, 0.6120890219028219, 0.5051417225119085, 0.4829144550453085, 0.7901112317778464, 0.45570578547877283, 0.46999059356795714, 0.4665453207833191, 0.4829144550453085, 0.44739126921577677, 0.45570578547877283, 0.7484115709957668, 0.4829144550453085, 0.38036999703193375, 0.4829144550453085, 0.43483537989976917, 0.6816162932966092, 0.45570578547877283, 0.6120890219028219, 0.7484115709957668, 0.6816162932966092, 0.5827043266282845, 0.25128255075605743, 0.4829144550453085, 0.35654253463730035, 0.4877645802118573, 0.4877645802118573, 0.5457363119039661, 0.5204522034350632, 0.40415015735889315, 0.33551168861114467, 0.17912366490001885, 0.6273176971744284, 0.6816162932966092, 0.4418536193534637, 0.4471878451638245, 0.73102514253123, 0.4829144550453085, 0.6816162932966092, 0.45570578547877283, 0.4877645802118573, 0.38036999703193375, 0.4829144550453085, 0.43483537989976917, 0.6816162932966092, 0.6251313679351497, 0.47783025329341866, 0.4877645802118573, 0.0, 0.623769026361561, 0.5457363119039661, 0.43483537989976917, 0.41981164883232025, 0.6251313679351497, 0.4877645802118573, 0.73102514253123, 0.5457363119039661, 0.6816162932966092, 0.09991804550633143, 0.41981164883232025, 0.5334505026814891, 0.73102514253123, 0.4877645802118573, 0.4988411776046907, 0.73102514253123, 0.6816162932966092, 0.0, 0.0, 0.4988411776046907, 0.4988411776046907, 0.41981164883232025, 0.31458630633867746, 0.0, 0.4988411776046907, 0.73102514253123, 0.4829144550453085, 0.73102514253123, 0.31458630633867746, 0.5334505026814891, 0.4988411776046907, 0.2144968620343809, 0.31458630633867746, 0.31458630633867746, 0.5334505026814891, 0.47783025329341866, 0.31458630633867746, 0.31458630633867746, 0.623769026361561, 0.31458630633867746, 0.31458630633867746, 0.5334505026814891, 0.4988411776046907, 0.4877645802118573, 0.5334505026814891, 0.4988411776046907, 0.31458630633867746, 0.31458630633867746, 0.31458630633867746, 0.33551168861114467, 0.31458630633867746, 0.31458630633867746, 0.73102514253123, 0.31458630633867746, 0.31458630633867746, 0.31458630633867746, 0.31458630633867746, 0.31458630633867746, 0.31458630633867746, 0.31458630633867746, 0.31458630633867746, 0.31458630633867746, 0.09991804550633143]}],\n",
       "                        {\"geo\": {\"projection\": {\"type\": \"equirectangular\"}, \"showframe\": false}, \"template\": {\"data\": {\"bar\": [{\"error_x\": {\"color\": \"#2a3f5f\"}, \"error_y\": {\"color\": \"#2a3f5f\"}, \"marker\": {\"line\": {\"color\": \"#E5ECF6\", \"width\": 0.5}}, \"type\": \"bar\"}], \"barpolar\": [{\"marker\": {\"line\": {\"color\": \"#E5ECF6\", \"width\": 0.5}}, \"type\": \"barpolar\"}], \"carpet\": [{\"aaxis\": {\"endlinecolor\": \"#2a3f5f\", \"gridcolor\": \"white\", \"linecolor\": \"white\", \"minorgridcolor\": \"white\", \"startlinecolor\": \"#2a3f5f\"}, \"baxis\": {\"endlinecolor\": \"#2a3f5f\", \"gridcolor\": \"white\", \"linecolor\": \"white\", \"minorgridcolor\": \"white\", \"startlinecolor\": \"#2a3f5f\"}, \"type\": \"carpet\"}], \"choropleth\": [{\"colorbar\": {\"outlinewidth\": 0, \"ticks\": \"\"}, \"type\": \"choropleth\"}], \"contour\": [{\"colorbar\": {\"outlinewidth\": 0, \"ticks\": \"\"}, \"colorscale\": [[0.0, \"#0d0887\"], [0.1111111111111111, \"#46039f\"], [0.2222222222222222, \"#7201a8\"], [0.3333333333333333, \"#9c179e\"], [0.4444444444444444, \"#bd3786\"], [0.5555555555555556, \"#d8576b\"], [0.6666666666666666, \"#ed7953\"], [0.7777777777777778, \"#fb9f3a\"], [0.8888888888888888, \"#fdca26\"], [1.0, \"#f0f921\"]], \"type\": \"contour\"}], \"contourcarpet\": [{\"colorbar\": {\"outlinewidth\": 0, \"ticks\": \"\"}, \"type\": \"contourcarpet\"}], \"heatmap\": [{\"colorbar\": {\"outlinewidth\": 0, \"ticks\": \"\"}, \"colorscale\": [[0.0, \"#0d0887\"], [0.1111111111111111, \"#46039f\"], [0.2222222222222222, \"#7201a8\"], [0.3333333333333333, \"#9c179e\"], [0.4444444444444444, \"#bd3786\"], [0.5555555555555556, \"#d8576b\"], [0.6666666666666666, \"#ed7953\"], [0.7777777777777778, \"#fb9f3a\"], [0.8888888888888888, \"#fdca26\"], [1.0, \"#f0f921\"]], \"type\": \"heatmap\"}], \"heatmapgl\": [{\"colorbar\": {\"outlinewidth\": 0, \"ticks\": \"\"}, \"colorscale\": [[0.0, \"#0d0887\"], [0.1111111111111111, \"#46039f\"], [0.2222222222222222, \"#7201a8\"], [0.3333333333333333, \"#9c179e\"], [0.4444444444444444, \"#bd3786\"], [0.5555555555555556, \"#d8576b\"], [0.6666666666666666, \"#ed7953\"], [0.7777777777777778, \"#fb9f3a\"], [0.8888888888888888, \"#fdca26\"], [1.0, \"#f0f921\"]], \"type\": \"heatmapgl\"}], \"histogram\": [{\"marker\": {\"colorbar\": {\"outlinewidth\": 0, \"ticks\": \"\"}}, \"type\": \"histogram\"}], \"histogram2d\": [{\"colorbar\": {\"outlinewidth\": 0, \"ticks\": \"\"}, \"colorscale\": [[0.0, \"#0d0887\"], [0.1111111111111111, \"#46039f\"], [0.2222222222222222, \"#7201a8\"], [0.3333333333333333, \"#9c179e\"], [0.4444444444444444, \"#bd3786\"], [0.5555555555555556, \"#d8576b\"], [0.6666666666666666, \"#ed7953\"], [0.7777777777777778, \"#fb9f3a\"], [0.8888888888888888, \"#fdca26\"], [1.0, \"#f0f921\"]], \"type\": \"histogram2d\"}], \"histogram2dcontour\": [{\"colorbar\": {\"outlinewidth\": 0, \"ticks\": \"\"}, \"colorscale\": [[0.0, \"#0d0887\"], [0.1111111111111111, \"#46039f\"], [0.2222222222222222, \"#7201a8\"], [0.3333333333333333, \"#9c179e\"], [0.4444444444444444, \"#bd3786\"], [0.5555555555555556, \"#d8576b\"], [0.6666666666666666, \"#ed7953\"], [0.7777777777777778, \"#fb9f3a\"], [0.8888888888888888, \"#fdca26\"], [1.0, \"#f0f921\"]], \"type\": \"histogram2dcontour\"}], \"mesh3d\": [{\"colorbar\": {\"outlinewidth\": 0, \"ticks\": \"\"}, \"type\": \"mesh3d\"}], \"parcoords\": [{\"line\": {\"colorbar\": {\"outlinewidth\": 0, \"ticks\": \"\"}}, \"type\": \"parcoords\"}], \"pie\": [{\"automargin\": true, \"type\": \"pie\"}], \"scatter\": [{\"marker\": {\"colorbar\": {\"outlinewidth\": 0, \"ticks\": \"\"}}, \"type\": \"scatter\"}], \"scatter3d\": [{\"line\": {\"colorbar\": {\"outlinewidth\": 0, \"ticks\": \"\"}}, \"marker\": {\"colorbar\": {\"outlinewidth\": 0, \"ticks\": \"\"}}, \"type\": \"scatter3d\"}], \"scattercarpet\": [{\"marker\": {\"colorbar\": {\"outlinewidth\": 0, \"ticks\": \"\"}}, \"type\": \"scattercarpet\"}], \"scattergeo\": [{\"marker\": {\"colorbar\": {\"outlinewidth\": 0, \"ticks\": \"\"}}, \"type\": \"scattergeo\"}], \"scattergl\": [{\"marker\": {\"colorbar\": {\"outlinewidth\": 0, \"ticks\": \"\"}}, \"type\": \"scattergl\"}], \"scattermapbox\": [{\"marker\": {\"colorbar\": {\"outlinewidth\": 0, \"ticks\": \"\"}}, \"type\": \"scattermapbox\"}], \"scatterpolar\": [{\"marker\": {\"colorbar\": {\"outlinewidth\": 0, \"ticks\": \"\"}}, \"type\": \"scatterpolar\"}], \"scatterpolargl\": [{\"marker\": {\"colorbar\": {\"outlinewidth\": 0, \"ticks\": \"\"}}, \"type\": \"scatterpolargl\"}], \"scatterternary\": [{\"marker\": {\"colorbar\": {\"outlinewidth\": 0, \"ticks\": \"\"}}, \"type\": \"scatterternary\"}], \"surface\": [{\"colorbar\": {\"outlinewidth\": 0, \"ticks\": \"\"}, \"colorscale\": [[0.0, \"#0d0887\"], [0.1111111111111111, \"#46039f\"], [0.2222222222222222, \"#7201a8\"], [0.3333333333333333, \"#9c179e\"], [0.4444444444444444, \"#bd3786\"], [0.5555555555555556, \"#d8576b\"], [0.6666666666666666, \"#ed7953\"], [0.7777777777777778, \"#fb9f3a\"], [0.8888888888888888, \"#fdca26\"], [1.0, \"#f0f921\"]], \"type\": \"surface\"}], \"table\": [{\"cells\": {\"fill\": {\"color\": \"#EBF0F8\"}, \"line\": {\"color\": \"white\"}}, \"header\": {\"fill\": {\"color\": \"#C8D4E3\"}, \"line\": {\"color\": \"white\"}}, \"type\": \"table\"}]}, \"layout\": {\"annotationdefaults\": {\"arrowcolor\": \"#2a3f5f\", \"arrowhead\": 0, \"arrowwidth\": 1}, \"coloraxis\": {\"colorbar\": {\"outlinewidth\": 0, \"ticks\": \"\"}}, \"colorscale\": {\"diverging\": [[0, \"#8e0152\"], [0.1, \"#c51b7d\"], [0.2, \"#de77ae\"], [0.3, \"#f1b6da\"], [0.4, \"#fde0ef\"], [0.5, \"#f7f7f7\"], [0.6, \"#e6f5d0\"], [0.7, \"#b8e186\"], [0.8, \"#7fbc41\"], [0.9, \"#4d9221\"], [1, \"#276419\"]], \"sequential\": [[0.0, \"#0d0887\"], [0.1111111111111111, \"#46039f\"], [0.2222222222222222, \"#7201a8\"], [0.3333333333333333, \"#9c179e\"], [0.4444444444444444, \"#bd3786\"], [0.5555555555555556, \"#d8576b\"], [0.6666666666666666, \"#ed7953\"], [0.7777777777777778, \"#fb9f3a\"], [0.8888888888888888, \"#fdca26\"], [1.0, \"#f0f921\"]], \"sequentialminus\": [[0.0, \"#0d0887\"], [0.1111111111111111, \"#46039f\"], [0.2222222222222222, \"#7201a8\"], [0.3333333333333333, \"#9c179e\"], [0.4444444444444444, \"#bd3786\"], [0.5555555555555556, \"#d8576b\"], [0.6666666666666666, \"#ed7953\"], [0.7777777777777778, \"#fb9f3a\"], [0.8888888888888888, \"#fdca26\"], [1.0, \"#f0f921\"]]}, \"colorway\": [\"#636efa\", \"#EF553B\", \"#00cc96\", \"#ab63fa\", \"#FFA15A\", \"#19d3f3\", \"#FF6692\", \"#B6E880\", \"#FF97FF\", \"#FECB52\"], \"font\": {\"color\": \"#2a3f5f\"}, \"geo\": {\"bgcolor\": \"white\", \"lakecolor\": \"white\", \"landcolor\": \"#E5ECF6\", \"showlakes\": true, \"showland\": true, \"subunitcolor\": \"white\"}, \"hoverlabel\": {\"align\": \"left\"}, \"hovermode\": \"closest\", \"mapbox\": {\"style\": \"light\"}, \"paper_bgcolor\": \"white\", \"plot_bgcolor\": \"#E5ECF6\", \"polar\": {\"angularaxis\": {\"gridcolor\": \"white\", \"linecolor\": \"white\", \"ticks\": \"\"}, \"bgcolor\": \"#E5ECF6\", \"radialaxis\": {\"gridcolor\": \"white\", \"linecolor\": \"white\", \"ticks\": \"\"}}, \"scene\": {\"xaxis\": {\"backgroundcolor\": \"#E5ECF6\", \"gridcolor\": \"white\", \"gridwidth\": 2, \"linecolor\": \"white\", \"showbackground\": true, \"ticks\": \"\", \"zerolinecolor\": \"white\"}, \"yaxis\": {\"backgroundcolor\": \"#E5ECF6\", \"gridcolor\": \"white\", \"gridwidth\": 2, \"linecolor\": \"white\", \"showbackground\": true, \"ticks\": \"\", \"zerolinecolor\": \"white\"}, \"zaxis\": {\"backgroundcolor\": \"#E5ECF6\", \"gridcolor\": \"white\", \"gridwidth\": 2, \"linecolor\": \"white\", \"showbackground\": true, \"ticks\": \"\", \"zerolinecolor\": \"white\"}}, \"shapedefaults\": {\"line\": {\"color\": \"#2a3f5f\"}}, \"ternary\": {\"aaxis\": {\"gridcolor\": \"white\", \"linecolor\": \"white\", \"ticks\": \"\"}, \"baxis\": {\"gridcolor\": \"white\", \"linecolor\": \"white\", \"ticks\": \"\"}, \"bgcolor\": \"#E5ECF6\", \"caxis\": {\"gridcolor\": \"white\", \"linecolor\": \"white\", \"ticks\": \"\"}}, \"title\": {\"x\": 0.05}, \"xaxis\": {\"automargin\": true, \"gridcolor\": \"white\", \"linecolor\": \"white\", \"ticks\": \"\", \"title\": {\"standoff\": 15}, \"zerolinecolor\": \"white\", \"zerolinewidth\": 2}, \"yaxis\": {\"automargin\": true, \"gridcolor\": \"white\", \"linecolor\": \"white\", \"ticks\": \"\", \"title\": {\"standoff\": 15}, \"zerolinecolor\": \"white\", \"zerolinewidth\": 2}}}, \"title\": {\"text\": \"World Environment Sustainability-2018\"}},\n",
       "                        {\"responsive\": true}\n",
       "                    ).then(function(){\n",
       "                            \n",
       "var gd = document.getElementById('04e80c7d-1ab3-4d53-9a28-5333663604c2');\n",
       "var x = new MutationObserver(function (mutations, observer) {{\n",
       "        var display = window.getComputedStyle(gd).display;\n",
       "        if (!display || display === 'none') {{\n",
       "            console.log([gd, 'removed!']);\n",
       "            Plotly.purge(gd);\n",
       "            observer.disconnect();\n",
       "        }}\n",
       "}});\n",
       "\n",
       "// Listen for the removal of the full notebook cells\n",
       "var notebookContainer = gd.closest('#notebook-container');\n",
       "if (notebookContainer) {{\n",
       "    x.observe(notebookContainer, {childList: true});\n",
       "}}\n",
       "\n",
       "// Listen for the clearing of the current output cell\n",
       "var outputEl = gd.closest('.output');\n",
       "if (outputEl) {{\n",
       "    x.observe(outputEl, {childList: true});\n",
       "}}\n",
       "\n",
       "                        })\n",
       "                };\n",
       "                });\n",
       "            </script>\n",
       "        </div>"
      ]
     },
     "metadata": {},
     "output_type": "display_data"
    }
   ],
   "source": [
    "# Data dict\n",
    "data = dict(\n",
    "        type = 'choropleth',\n",
    "        locations = countries['CODE'],\n",
    "        z = 1- countries['Indicator'],\n",
    "        text = countries['Country'], \n",
    "        colorbar = {'title' : 'Environmental Performance'},\n",
    "      )\n",
    "\n",
    "# Layout\n",
    "layout = dict(\n",
    "    title = 'World Environment Sustainability-2018',\n",
    "    geo = dict(\n",
    "        showframe = False, \n",
    "        projection = {'type':'equirectangular'}\n",
    "    )\n",
    ")\n",
    "\n",
    "#Finally plotting\n",
    "choromap = go.Figure(data = [data],layout = layout)\n",
    "iplot(choromap)"
   ]
  },
  {
   "cell_type": "markdown",
   "metadata": {},
   "source": [
    "### Results"
   ]
  },
  {
   "cell_type": "markdown",
   "metadata": {},
   "source": [
    "As we can see that environmental performance is lowest among countries like India, Pakistan, Nigeria, Yemen, Saudi Arabia, Congo and other African countries. Countries like Canada, US, Brazil, Australia and West Europian countries are perfoming well on the sustainability index. We can compare the results wit the Enviormental Performance Index we see that our model produces similar results.\n",
    "<img src=\"images\\image2.png\">"
   ]
  },
  {
   "cell_type": "code",
   "execution_count": null,
   "metadata": {},
   "outputs": [],
   "source": []
  }
 ],
 "metadata": {
  "kernelspec": {
   "display_name": "Python 3",
   "language": "python",
   "name": "python3"
  },
  "language_info": {
   "codemirror_mode": {
    "name": "ipython",
    "version": 3
   },
   "file_extension": ".py",
   "mimetype": "text/x-python",
   "name": "python",
   "nbconvert_exporter": "python",
   "pygments_lexer": "ipython3",
   "version": "3.7.4"
  }
 },
 "nbformat": 4,
 "nbformat_minor": 2
}
